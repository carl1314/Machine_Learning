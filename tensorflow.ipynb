{
  "nbformat": 4,
  "nbformat_minor": 0,
  "metadata": {
    "colab": {
      "name": "Untitled0.ipynb",
      "version": "0.3.2",
      "provenance": [],
      "collapsed_sections": [
        "cn9muTvcz0G_",
        "ETu6fO4t5aFs",
        "9WlWhxt650Fh"
      ],
      "toc_visible": true,
      "include_colab_link": true
    },
    "kernelspec": {
      "name": "python3",
      "display_name": "Python 3"
    }
  },
  "cells": [
    {
      "cell_type": "markdown",
      "metadata": {
        "id": "view-in-github",
        "colab_type": "text"
      },
      "source": [
        "[![Open In Colab](https://colab.research.google.com/assets/colab-badge.svg)](https://colab.research.google.com/github/LjBLincoln/Machine_Learning/blob/master/tensorflow.ipynb)"
      ]
    },
    {
      "metadata": {
        "id": "cn9muTvcz0G_",
        "colab_type": "text"
      },
      "cell_type": "markdown",
      "source": [
        "#Hello TensorFlow"
      ]
    },
    {
      "metadata": {
        "id": "hFmOzKrr0UhY",
        "colab_type": "code",
        "colab": {}
      },
      "cell_type": "code",
      "source": [
        "import tensorflow as tf\n",
        "import os\n",
        "\n",
        "print(\"******************************\")\n",
        "print(\"     Hello TensorFlow !!!     \")\n",
        "print(\"******************************\")\n",
        "\n",
        "\n",
        "input(\"press any key to continue.\")\n",
        "\n",
        "print(\"1.     Constant       \")\n",
        "\n",
        "a = tf.constant(3.0, dtype=tf.float32,name=\"Constant_a\")\n",
        "\n",
        "b = tf.constant(4.0) # also tf.float32 implicitly\n",
        "\n",
        "total = a + b\n",
        "\n",
        "print(a)\n",
        "print(b)\n",
        "print(total)\n",
        "\n",
        "print(tf.Session().run(total))\n",
        "\n",
        "input(\"press any key to continue.\")\n",
        "\n",
        "print(\"2.      Variable       \")\n",
        "\n",
        "my_variable = tf.get_variable(\"my_variable\", [1, 2, 3])\n",
        "\n",
        "my_int_variable = tf.get_variable(\"my_int_variable\", [1, 2, 3], dtype=tf.int32,\n",
        "  initializer=tf.zeros_initializer)\n",
        "\n",
        "other_variable = tf.get_variable(\"other_variable\", dtype=tf.int32,\n",
        "  initializer=tf.constant([23, 42]))\n",
        "\n",
        "\n",
        "print(my_variable)\n",
        "print(my_int_variable)\n",
        "print(other_variable)\n",
        "\n",
        "\n",
        "\n",
        "variable_a = tf.get_variable(\"variable_a\",[2,3], dtype=tf.int32)\n",
        "variable_b = tf.get_variable(\"variable_b\",[2,3], dtype=tf.int32)\n",
        "\n",
        "print(\"variable_a :\",variable_a)\n",
        "\n",
        "print(\"variable_b :\",variable_b)\n",
        "\n",
        "with tf.Session() as sess:\n",
        "    sess.run(total)\n",
        "    file_writer = tf.summary.FileWriter('/tmp/logs', sess.graph)\n",
        " \n"
      ],
      "execution_count": 0,
      "outputs": []
    },
    {
      "metadata": {
        "id": "ETu6fO4t5aFs",
        "colab_type": "text"
      },
      "cell_type": "markdown",
      "source": [
        "# TensorBoard"
      ]
    },
    {
      "metadata": {
        "id": "2ny1NCI55loc",
        "colab_type": "code",
        "colab": {
          "base_uri": "https://localhost:8080/",
          "height": 34
        },
        "outputId": "926bbe8e-5884-4146-c754-0d3eec155c79"
      },
      "cell_type": "code",
      "source": [
        "import tensorflow as tf\n",
        "import os\n",
        "\n",
        "with tf.name_scope(\"AddExample\"):\n",
        "\n",
        "    a = tf.Variable(3.0, name=\"a\")\n",
        "\n",
        "    b = tf.Variable(4.0, name=\"b\") # also tf.float32 implicitly\n",
        " \n",
        "    c = tf.add(a, b, name ='add')\n",
        "    \n",
        "    print(c)\n",
        "\n",
        "with tf.Session() as sess:\n",
        "    #sess.run(tf.global_variables_initializer())\n",
        "    #sess.run(c)\n",
        "    file_writer = tf.summary.FileWriter('/tmp/logs', sess.graph)\n",
        " "
      ],
      "execution_count": 2,
      "outputs": [
        {
          "output_type": "stream",
          "text": [
            "Tensor(\"AddExample/add:0\", shape=(), dtype=float32)\n"
          ],
          "name": "stdout"
        }
      ]
    },
    {
      "metadata": {
        "id": "9WlWhxt650Fh",
        "colab_type": "text"
      },
      "cell_type": "markdown",
      "source": [
        "# TensorBoard Placeholder"
      ]
    },
    {
      "metadata": {
        "id": "fGrUjeXL59RH",
        "colab_type": "code",
        "colab": {
          "base_uri": "https://localhost:8080/",
          "height": 51
        },
        "outputId": "bcdc0e3f-dadc-4b52-9b80-476d27133264"
      },
      "cell_type": "code",
      "source": [
        "import tensorflow as tf \n",
        "import numpy as np \n",
        "\n",
        "with tf.name_scope(\"PlaceholderExample\"):\n",
        "    #定义形状为[2,2]的单精度浮点数矩阵\n",
        "    x = tf.placeholder(tf.float32, shape = (2 , 2 ), name = \"x\")\n",
        "    y = tf.matmul(x, x, name = \"matmul\")\n",
        "\t\n",
        "with tf.Session() as sess :\n",
        "    rand_array = np.random.rand(2, 2)\n",
        "    print(sess.run(y, feed_dict = { x: rand_array}))\n",
        "    file_writer = tf.summary.FileWriter('/tmp/logs', sess.graph)"
      ],
      "execution_count": 3,
      "outputs": [
        {
          "output_type": "stream",
          "text": [
            "[[0.19756594 0.29739496]\n",
            " [0.29572526 0.5944579 ]]\n"
          ],
          "name": "stdout"
        }
      ]
    },
    {
      "metadata": {
        "id": "pPh6JTLB6IFu",
        "colab_type": "text"
      },
      "cell_type": "markdown",
      "source": [
        "# TensorBoard  Sparse Placeholder"
      ]
    },
    {
      "metadata": {
        "id": "ZxsJ9KaL6M1s",
        "colab_type": "code",
        "colab": {
          "base_uri": "https://localhost:8080/",
          "height": 68
        },
        "outputId": "54168d97-5d9b-442e-f945-9914a97e8e6f"
      },
      "cell_type": "code",
      "source": [
        "import tensorflow as tf \n",
        "import numpy as np \n",
        "\n",
        "# 没有显示的指导数据形状，表示可以填充任意形状的单精度浮点数稀疏张量\n",
        "x = tf.sparse_placeholder(tf.float32)\n",
        "y = tf.sparse_reduce_sum(x)\n",
        "\t\n",
        "with tf.Session() as sess :\n",
        "    # 设置非零元素索引为[3, 2, 0] 和 [4, 5, 1]\n",
        "    indices = np.array([[3, 2, 0], [4, 5, 1]], dtype = np.int64)\n",
        "\t# 设置索引为[3, 2, 0] 和 [4, 5, 1]元素的值分别为1.0和2.0\n",
        "    values = np.array([1.0 , 2.0], dtype = np.float32)\n",
        "    # 设置稀疏张量对应的稠密张量形状为[7, 9, 2]\n",
        "    shape = np.array([7, 9, 2], dtype = np.int64)\n",
        "\t# 向x填充稀疏张量\n",
        "    print(sess.run(y, feed_dict = { x: tf.SparseTensorValue(indices, values, shape)}))\n",
        "\t# 向x填充张量3元组（indices, values, shape ）\n",
        "    print(sess.run(y, feed_dict = { x: (indices, values, shape)}))\n",
        "    # 向x填充Numpy多为数组\n",
        "    sp = tf.SparseTensor(indices = indices, values = values, dense_shape = shape)\n",
        "    sp_value = sp.eval()\n",
        "    print(sess.run(y, feed_dict = { x:  sp_value}))\n",
        "\n",
        "    file_writer = tf.summary.FileWriter('/tmp/logs', sess.graph)\n",
        " \n"
      ],
      "execution_count": 4,
      "outputs": [
        {
          "output_type": "stream",
          "text": [
            "3.0\n",
            "3.0\n",
            "3.0\n"
          ],
          "name": "stdout"
        }
      ]
    }
  ]
}