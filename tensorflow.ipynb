{
  "nbformat": 4,
  "nbformat_minor": 0,
  "metadata": {
    "colab": {
      "name": "Untitled0.ipynb",
      "version": "0.3.2",
      "provenance": [],
      "collapsed_sections": [
        "cn9muTvcz0G_",
        "ETu6fO4t5aFs",
        "9WlWhxt650Fh"
      ],
      "toc_visible": true,
      "include_colab_link": true
    },
    "kernelspec": {
      "name": "python3",
      "display_name": "Python 3"
    }
  },
  "cells": [
    {
      "cell_type": "markdown",
      "metadata": {
        "id": "view-in-github",
        "colab_type": "text"
      },
      "source": [
        "[![Open In Colab](https://colab.research.google.com/assets/colab-badge.svg)](https://colab.research.google.com/github/LjBLincoln/Machine_Learning/blob/master/tensorflow.ipynb)"
      ]
    },
    {
      "metadata": {
        "id": "cn9muTvcz0G_",
        "colab_type": "text"
      },
      "cell_type": "markdown",
      "source": [
        "#Hello TensorFlow"
      ]
    },
    {
      "metadata": {
        "id": "hFmOzKrr0UhY",
        "colab_type": "code",
        "colab": {}
      },
      "cell_type": "code",
      "source": [
        "import tensorflow as tf\n",
        "import os\n",
        "\n",
        "print(\"******************************\")\n",
        "print(\"     Hello TensorFlow !!!     \")\n",
        "print(\"******************************\")\n",
        "\n",
        "\n",
        "input(\"press any key to continue.\")\n",
        "\n",
        "print(\"1.     Constant       \")\n",
        "\n",
        "a = tf.constant(3.0, dtype=tf.float32,name=\"Constant_a\")\n",
        "\n",
        "b = tf.constant(4.0) # also tf.float32 implicitly\n",
        "\n",
        "total = a + b\n",
        "\n",
        "print(a)\n",
        "print(b)\n",
        "print(total)\n",
        "\n",
        "print(tf.Session().run(total))\n",
        "\n",
        "input(\"press any key to continue.\")\n",
        "\n",
        "print(\"2.      Variable       \")\n",
        "\n",
        "my_variable = tf.get_variable(\"my_variable\", [1, 2, 3])\n",
        "\n",
        "my_int_variable = tf.get_variable(\"my_int_variable\", [1, 2, 3], dtype=tf.int32,\n",
        "  initializer=tf.zeros_initializer)\n",
        "\n",
        "other_variable = tf.get_variable(\"other_variable\", dtype=tf.int32,\n",
        "  initializer=tf.constant([23, 42]))\n",
        "\n",
        "\n",
        "print(my_variable)\n",
        "print(my_int_variable)\n",
        "print(other_variable)\n",
        "\n",
        "\n",
        "\n",
        "variable_a = tf.get_variable(\"variable_a\",[2,3], dtype=tf.int32)\n",
        "variable_b = tf.get_variable(\"variable_b\",[2,3], dtype=tf.int32)\n",
        "\n",
        "print(\"variable_a :\",variable_a)\n",
        "\n",
        "print(\"variable_b :\",variable_b)\n",
        "\n",
        "with tf.Session() as sess:\n",
        "    sess.run(total)\n",
        "    file_writer = tf.summary.FileWriter('/tmp/logs', sess.graph)\n",
        " \n"
      ],
      "execution_count": 0,
      "outputs": []
    },
    {
      "metadata": {
        "id": "ETu6fO4t5aFs",
        "colab_type": "text"
      },
      "cell_type": "markdown",
      "source": [
        "# TensorBoard"
      ]
    },
    {
      "metadata": {
        "id": "2ny1NCI55loc",
        "colab_type": "code",
        "outputId": "926bbe8e-5884-4146-c754-0d3eec155c79",
        "colab": {
          "base_uri": "https://localhost:8080/",
          "height": 34
        }
      },
      "cell_type": "code",
      "source": [
        "import tensorflow as tf\n",
        "import os\n",
        "\n",
        "with tf.name_scope(\"AddExample\"):\n",
        "\n",
        "    a = tf.Variable(3.0, name=\"a\")\n",
        "\n",
        "    b = tf.Variable(4.0, name=\"b\") # also tf.float32 implicitly\n",
        " \n",
        "    c = tf.add(a, b, name ='add')\n",
        "    \n",
        "    print(c)\n",
        "\n",
        "with tf.Session() as sess:\n",
        "    #sess.run(tf.global_variables_initializer())\n",
        "    #sess.run(c)\n",
        "    file_writer = tf.summary.FileWriter('/tmp/logs', sess.graph)\n",
        " "
      ],
      "execution_count": 0,
      "outputs": [
        {
          "output_type": "stream",
          "text": [
            "Tensor(\"AddExample/add:0\", shape=(), dtype=float32)\n"
          ],
          "name": "stdout"
        }
      ]
    },
    {
      "metadata": {
        "id": "9WlWhxt650Fh",
        "colab_type": "text"
      },
      "cell_type": "markdown",
      "source": [
        "# TensorBoard Placeholder"
      ]
    },
    {
      "metadata": {
        "id": "fGrUjeXL59RH",
        "colab_type": "code",
        "outputId": "bcdc0e3f-dadc-4b52-9b80-476d27133264",
        "colab": {
          "base_uri": "https://localhost:8080/",
          "height": 51
        }
      },
      "cell_type": "code",
      "source": [
        "import tensorflow as tf \n",
        "import numpy as np \n",
        "\n",
        "with tf.name_scope(\"PlaceholderExample\"):\n",
        "    #定义形状为[2,2]的单精度浮点数矩阵\n",
        "    x = tf.placeholder(tf.float32, shape = (2 , 2 ), name = \"x\")\n",
        "    y = tf.matmul(x, x, name = \"matmul\")\n",
        "\t\n",
        "with tf.Session() as sess :\n",
        "    rand_array = np.random.rand(2, 2)\n",
        "    print(sess.run(y, feed_dict = { x: rand_array}))\n",
        "    file_writer = tf.summary.FileWriter('/tmp/logs', sess.graph)"
      ],
      "execution_count": 0,
      "outputs": [
        {
          "output_type": "stream",
          "text": [
            "[[0.19756594 0.29739496]\n",
            " [0.29572526 0.5944579 ]]\n"
          ],
          "name": "stdout"
        }
      ]
    },
    {
      "metadata": {
        "id": "pPh6JTLB6IFu",
        "colab_type": "text"
      },
      "cell_type": "markdown",
      "source": [
        "# TensorBoard  Sparse Placeholder"
      ]
    },
    {
      "metadata": {
        "id": "ZxsJ9KaL6M1s",
        "colab_type": "code",
        "colab": {}
      },
      "cell_type": "code",
      "source": [
        "import tensorflow as tf \n",
        "import numpy as np \n",
        "\n",
        "# 没有显示的指导数据形状，表示可以填充任意形状的单精度浮点数稀疏张量\n",
        "x = tf.sparse_placeholder(tf.float32)\n",
        "y = tf.sparse_reduce_sum(x)\n",
        "\t\n",
        "with tf.Session() as sess :\n",
        "    # 设置非零元素索引为[3, 2, 0] 和 [4, 5, 1]\n",
        "    indices = np.array([[3, 2, 0], [4, 5, 1]], dtype = np.int64)\n",
        "\t# 设置索引为[3, 2, 0] 和 [4, 5, 1]元素的值分别为1.0和2.0\n",
        "    values = np.array([1.0 , 2.0], dtype = np.float32)\n",
        "    # 设置稀疏张量对应的稠密张量形状为[7, 9, 2]\n",
        "    shape = np.array([7, 9, 2], dtype = np.int64)\n",
        "\t# 向x填充稀疏张量\n",
        "    print(sess.run(y, feed_dict = { x: tf.SparseTensorValue(indices, values, shape)}))\n",
        "\t# 向x填充张量3元组（indices, values, shape ）\n",
        "    print(sess.run(y, feed_dict = { x: (indices, values, shape)}))\n",
        "    # 向x填充Numpy多为数组\n",
        "    sp = tf.SparseTensor(indices = indices, values = values, dense_shape = shape)\n",
        "    sp_value = sp.eval()\n",
        "    print(sess.run(y, feed_dict = { x:  sp_value}))\n",
        "\n",
        "    file_writer = tf.summary.FileWriter('/tmp/logs', sess.graph)\n",
        " \n"
      ],
      "execution_count": 0,
      "outputs": []
    },
    {
      "metadata": {
        "id": "zP5rzpOY84Je",
        "colab_type": "text"
      },
      "cell_type": "markdown",
      "source": [
        "# Save ckpt to pb"
      ]
    },
    {
      "metadata": {
        "id": "SDVPA9nC9BEs",
        "colab_type": "code",
        "colab": {
          "base_uri": "https://localhost:8080/",
          "height": 182
        },
        "outputId": "5e8a98c7-6ef5-4fec-fe12-a4a97c7368ed"
      },
      "cell_type": "code",
      "source": [
        "import os, argparse\n",
        "import tensorflow as tf\n",
        "from tensorflow.python.framework import graph_util\n",
        " \n",
        "#dir = os.path.dirname(os.path.realpath(__file__))\n",
        " \n",
        "def freeze_graph(model_folder):\n",
        "    # We retrieve our checkpoint fullpath\n",
        "    checkpoint = tf.train.get_checkpoint_state(model_folder)\n",
        "    input_checkpoint = checkpoint.model_checkpoint_path\n",
        "    \n",
        "    # We precise the file fullname of our freezed graph\n",
        "    absolute_model_folder = \"/\".join(input_checkpoint.split('/')[:-1])\n",
        "    output_graph = absolute_model_folder + \"/frozen_model.pb\"\n",
        " \n",
        "    # Before exporting our graph, we need to precise what is our output node\n",
        "    # this variables is plural, because you can have multiple output nodes\n",
        "    output_node_names = \"Accuracy/predictions\"\n",
        " \n",
        "    # We clear the devices, to allow TensorFlow to control on the loading where it wants operations to be calculated\n",
        "    clear_devices = True\n",
        "    \n",
        "    # We import the meta graph and retrive a Saver\n",
        "    saver = tf.train.import_meta_graph(input_checkpoint + '.meta', clear_devices=clear_devices)\n",
        " \n",
        "    # We retrieve the protobuf graph definition\n",
        "    graph = tf.get_default_graph()\n",
        "    input_graph_def = graph.as_graph_def()\n",
        " \n",
        "    with tf.Session() as sess:\n",
        "        saver.restore(sess, input_checkpoint)\n",
        " \n",
        "        # We use a built-in TF helper to export variables to constant\n",
        "        output_graph_def = graph_util.convert_variables_to_constants(\n",
        "            sess, \n",
        "            input_graph_def, \n",
        "            output_node_names.split(\",\") # We split on comma for convenience\n",
        "        ) \n",
        " \n",
        "        # Finally we serialize and dump the output graph to the filesystem\n",
        "        with tf.gfile.GFile(output_graph, \"wb\") as f:\n",
        "            f.write(output_graph_def.SerializeToString())\n",
        "        print(\"%d ops in the final graph.\" % len(output_graph_def.node))\n",
        " \n",
        " \n",
        "if __name__ == '__main__':\n",
        "    parser = argparse.ArgumentParser()\n",
        "    parser.add_argument(\"--model_folder\", type=str, help=\"Model folder to export\")\n",
        "    args = parser.parse_args()\n",
        " \n",
        "    freeze_graph(args.model_folder)\n"
      ],
      "execution_count": 2,
      "outputs": [
        {
          "output_type": "stream",
          "text": [
            "usage: ipykernel_launcher.py [-h] [--model_folder MODEL_FOLDER]\n",
            "ipykernel_launcher.py: error: unrecognized arguments: -f /root/.local/share/jupyter/runtime/kernel-0844e656-6d4d-4a4b-81c5-a3d772b16a92.json\n"
          ],
          "name": "stderr"
        },
        {
          "output_type": "error",
          "ename": "SystemExit",
          "evalue": "ignored",
          "traceback": [
            "An exception has occurred, use %tb to see the full traceback.\n",
            "\u001b[0;31mSystemExit\u001b[0m\u001b[0;31m:\u001b[0m 2\n"
          ]
        },
        {
          "output_type": "stream",
          "text": [
            "/usr/local/lib/python3.6/dist-packages/IPython/core/interactiveshell.py:2890: UserWarning: To exit: use 'exit', 'quit', or Ctrl-D.\n",
            "  warn(\"To exit: use 'exit', 'quit', or Ctrl-D.\", stacklevel=1)\n"
          ],
          "name": "stderr"
        }
      ]
    },
    {
      "metadata": {
        "id": "tuEKHxiodlIN",
        "colab_type": "text"
      },
      "cell_type": "markdown",
      "source": [
        "#Colab Env Test"
      ]
    },
    {
      "metadata": {
        "id": "pmcUfi4aa9c7",
        "colab_type": "code",
        "colab": {
          "base_uri": "https://localhost:8080/",
          "height": 306
        },
        "outputId": "fc43a27e-7cd8-4a6d-86d7-a9eb67e51a9d"
      },
      "cell_type": "code",
      "source": [
        "! pwd\n",
        "! ls -la\n",
        "! cd /tmp\n",
        "! pwd\n",
        "! cd /home/\n",
        "! pwd\n",
        "! mkdir tensorflow\n",
        "! cd tensorflow\n",
        "! ls -la\n",
        "! pwd\n"
      ],
      "execution_count": 12,
      "outputs": [
        {
          "output_type": "stream",
          "text": [
            "/content\n",
            "total 20\n",
            "drwxr-xr-x 1 root root 4096 Oct 17 05:11 .\n",
            "drwxr-xr-x 1 root root 4096 Oct 17 02:49 ..\n",
            "drwxr-xr-x 4 root root 4096 Oct 15 20:34 .config\n",
            "drwxr-xr-x 2 root root 4096 Oct 15 20:47 sample_data\n",
            "drwxr-xr-x 2 root root 4096 Oct 17 05:11 tensorflow\n",
            "/content\n",
            "/content\n",
            "mkdir: cannot create directory ‘tensorflow’: File exists\n",
            "total 20\n",
            "drwxr-xr-x 1 root root 4096 Oct 17 05:11 .\n",
            "drwxr-xr-x 1 root root 4096 Oct 17 02:49 ..\n",
            "drwxr-xr-x 4 root root 4096 Oct 15 20:34 .config\n",
            "drwxr-xr-x 2 root root 4096 Oct 15 20:47 sample_data\n",
            "drwxr-xr-x 2 root root 4096 Oct 17 05:11 tensorflow\n",
            "/content\n"
          ],
          "name": "stdout"
        }
      ]
    }
  ]
}