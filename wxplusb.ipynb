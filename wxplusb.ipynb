{
  "nbformat": 4,
  "nbformat_minor": 0,
  "metadata": {
    "colab": {
      "name": "wxplusb.ipynb",
      "version": "0.3.2",
      "provenance": [],
      "include_colab_link": true
    },
    "kernelspec": {
      "name": "python3",
      "display_name": "Python 3"
    }
  },
  "cells": [
    {
      "cell_type": "markdown",
      "metadata": {
        "id": "view-in-github",
        "colab_type": "text"
      },
      "source": [
        "[View in Colaboratory](https://colab.research.google.com/github/LjBLincoln/Machine_Learning/blob/master/wxplusb.ipynb)"
      ]
    },
    {
      "metadata": {
        "colab_type": "text",
        "id": "zjt0WpRUa382"
      },
      "cell_type": "markdown",
      "source": [
        "# Demo (y = wx+b)"
      ]
    },
    {
      "metadata": {
        "id": "yJTw1yqKWAay",
        "colab_type": "code",
        "colab": {}
      },
      "cell_type": "code",
      "source": [
        "# _*_ coding: utf-8 _*_\n",
        "\n",
        "import matplotlib.pyplot as plt\n",
        "\n",
        "import tensorflow as tf\n",
        "\n",
        "import numpy as np\n",
        "\n",
        "MAX_STEPS = 500"
      ],
      "execution_count": 0,
      "outputs": []
    },
    {
      "metadata": {
        "id": "5dZtgELmWCFi",
        "colab_type": "code",
        "colab": {}
      },
      "cell_type": "code",
      "source": [
        "# create data 生成100个0-1之间的随机数   np.random.rand(100) 1*100的矩阵\n",
        "#np.random.rand(3,3) 3*3的矩阵，其每个元素为0-1的随机数\n",
        "x_data = np.random.rand(50).astype(np.float32)\n",
        "y_data = x_data * 0.8 + 0.1\n"
      ],
      "execution_count": 0,
      "outputs": []
    },
    {
      "metadata": {
        "id": "lWDXKEZNWGE3",
        "colab_type": "code",
        "colab": {}
      },
      "cell_type": "code",
      "source": [
        "#input module\n",
        "with tf.name_scope('input'):\n",
        "    with tf.name_scope('x'):\n",
        "        x = tf.placeholder(tf.float32, shape = (50), name = \"x\")\n",
        "    with tf.name_scope('y_'):\n",
        "        y_ = tf.placeholder(tf.float32, shape = (50), name = \"y_\")"
      ],
      "execution_count": 0,
      "outputs": []
    },
    {
      "metadata": {
        "id": "0vPZr0fIWID9",
        "colab_type": "code",
        "colab": {}
      },
      "cell_type": "code",
      "source": [
        "# layer\n",
        "with tf.name_scope('layer'):\n",
        "    with tf.name_scope('weights'):\n",
        "        ### create tensorflow structure start ###对权进行赋值 在-1到一之间随机数\n",
        "        #uniform([1]为1*1的矩阵，即一个数\n",
        "        Weights = tf.Variable(tf.random_uniform([1], -1.0, 1.0))\n",
        "        tf.summary.histogram('Weights' ,Weights)\n",
        "    with tf.name_scope('biases'):\n",
        "        #偏差为零，zeros([1]为一个1*1的零矩阵，即初始偏差为零\n",
        "        biases = tf.Variable(tf.zeros([1]))\n",
        "        tf.summary.histogram('biases' ,biases)\n",
        "    with tf.name_scope('Wx_plus_b'):\n",
        "        #权值与x相乘并加偏差\n",
        "        y = Weights * x + biases "
      ],
      "execution_count": 0,
      "outputs": []
    },
    {
      "metadata": {
        "id": "_DtdTF-nWJyj",
        "colab_type": "code",
        "colab": {}
      },
      "cell_type": "code",
      "source": [
        "#Mean Squared Error)\n",
        "with tf.name_scope('Mean_Squared_Error'):\n",
        "    #方差，(y-y_)平方，求和，取均值\n",
        "    loss = tf.reduce_mean(tf.square(y-y_))\n",
        "    tf.summary.scalar('loss', loss)"
      ],
      "execution_count": 0,
      "outputs": []
    },
    {
      "metadata": {
        "id": "7vVMp0EMWJrk",
        "colab_type": "code",
        "colab": {}
      },
      "cell_type": "code",
      "source": [
        "#Optimizer\n",
        "with tf.name_scope('train'):\n",
        "    #定义梯度下降法优化函数，优化，步长为0.1\n",
        "    optimizer = tf.train.GradientDescentOptimizer(0.1)\n",
        "    #tf.summary.scalar('optimizer', optimizer)\n",
        "    train_step = optimizer.minimize(loss)"
      ],
      "execution_count": 0,
      "outputs": []
    },
    {
      "metadata": {
        "id": "Pc0zgCflWQJS",
        "colab_type": "code",
        "colab": {}
      },
      "cell_type": "code",
      "source": [
        "  \n",
        "def feed_dict():\n",
        "    xs, ys =x_data, x_data * 0.8 + 0.1\n",
        "    return {x:xs, y_:ys}"
      ],
      "execution_count": 0,
      "outputs": []
    },
    {
      "metadata": {
        "id": "ucblob7DWTT6",
        "colab_type": "code",
        "colab": {}
      },
      "cell_type": "code",
      "source": [
        "\n",
        "merged = tf.summary.merge_all()\n",
        "\n",
        "init = tf.global_variables_initializer()\n",
        "#session\n",
        "sess = tf.Session()\n",
        "\n",
        "#create FileWriter and loadd graph\n",
        "train_writer = tf.summary.FileWriter('./log', sess.graph)\n",
        "\n",
        "sess.run(init)"
      ],
      "execution_count": 0,
      "outputs": []
    },
    {
      "metadata": {
        "id": "Ymer8GFBWVZ1",
        "colab_type": "code",
        "colab": {}
      },
      "cell_type": "code",
      "source": [
        "plt.figure(figsize=(10, 10), dpi=80)\n",
        "plt.ion()\n"
      ],
      "execution_count": 0,
      "outputs": []
    },
    {
      "metadata": {
        "id": "p8DOfYPuWXvz",
        "colab_type": "code",
        "colab": {}
      },
      "cell_type": "code",
      "source": [
        "for step in range(MAX_STEPS):\n",
        "    \n",
        "    plt.title(\"scatter diagram.\")\n",
        "    plt.xlabel(\"x_data\")\n",
        "    plt.ylabel(\"y_data\")\n",
        "    plt.xlim(xmax=1, xmin=0)\n",
        "    plt.ylim(ymax=1,ymin=0)\n",
        "    plt.plot(x_data,y_data,'ro',color='r',linewidth=0.5)\n",
        "\n",
        "    #summary, loss = sess.run([merged,loss],feed_dict = {x:x_data})\n",
        "    \n",
        "    run_options = tf.RunOptions(trace_level=tf.RunOptions.FULL_TRACE)\n",
        "    summary, _ = sess.run([merged,train_step],feed_dict=feed_dict(),options=run_options)\n",
        "    train_writer.add_summary(summary, step)\n",
        "    #print(step)\n",
        "    #if step % 10 == 0:\n",
        "    #    plt.plot(x_data,y_re,'ro', color='m',linewidth=0.5)\n",
        "    #if step % 15 == 0:\n",
        "    #    plt.plot(x_data,y_re,'ro', color='g',linewidth=0.5)"
      ],
      "execution_count": 0,
      "outputs": []
    },
    {
      "metadata": {
        "id": "TAZMi3m-9g4G",
        "colab_type": "code",
        "colab": {}
      },
      "cell_type": "code",
      "source": [
        "\n",
        "plt.ioff()\n",
        "plt.show()\n",
        "    \n",
        "#close FileWriter\n",
        "train_writer.close()\n",
        "sess.close()\n",
        "\n",
        "print(\"Done !!!\")"
      ],
      "execution_count": 0,
      "outputs": []
    },
    {
      "metadata": {
        "id": "JG4FPOggZfoU",
        "colab_type": "text"
      },
      "cell_type": "markdown",
      "source": [
        "## TensorBoard"
      ]
    },
    {
      "metadata": {
        "id": "wFEu-D6z5uPi",
        "colab_type": "code",
        "colab": {}
      },
      "cell_type": "code",
      "source": [
        "#https://www.dlology.com/blog/quick-guide-to-run-tensorboard-in-google-colab/\n",
        "\n",
        "!wget https://bin.equinox.io/c/4VmDzA7iaHb/ngrok-stable-linux-amd64.zip\n",
        "!unzip ngrok-stable-linux-amd64.zip\n",
        "\n",
        "LOG_DIR = './log'\n",
        "get_ipython().system_raw('tensorboard --logdir {} --host 0.0.0.0 --port 6006 &'.format(LOG_DIR))\n",
        "\n",
        "get_ipython().system_raw('./ngrok http 6006 &')\n",
        "\n",
        "\n",
        "! curl -s http://localhost:4040/api/tunnels | python3 -c \"import sys, json; print(json.load(sys.stdin)['tunnels'][0]['public_url'])\"\n",
        "\n"
      ],
      "execution_count": 0,
      "outputs": []
    },
    {
      "metadata": {
        "id": "1oiI1-pgaRuI",
        "colab_type": "code",
        "colab": {}
      },
      "cell_type": "code",
      "source": [
        "# Demo (y = wx+b)\n",
        "\n",
        "# _*_ coding: utf-8 _*_\n",
        "\n",
        "import matplotlib.pyplot as plt\n",
        "\n",
        "import tensorflow as tf\n",
        "\n",
        "import numpy as np\n",
        "\n",
        "MAX_STEPS = 500\n",
        "\n",
        "# create data 生成100个0-1之间的随机数   np.random.rand(100) 1*100的矩阵\n",
        "#np.random.rand(3,3) 3*3的矩阵，其每个元素为0-1的随机数\n",
        "x_data = np.random.rand(50).astype(np.float32)\n",
        "y_data = x_data * 0.8 + 0.1\n",
        "\n",
        "\n",
        "#input module\n",
        "with tf.name_scope('input'):\n",
        "    with tf.name_scope('x'):\n",
        "        x = tf.placeholder(tf.float32, shape = (50), name = \"x\")\n",
        "    with tf.name_scope('y_'):\n",
        "        y_ = tf.placeholder(tf.float32, shape = (50), name = \"y_\")\n",
        "\n",
        "# layer\n",
        "with tf.name_scope('layer'):\n",
        "    with tf.name_scope('weights'):\n",
        "        ### create tensorflow structure start ###对权进行赋值 在-1到一之间随机数\n",
        "        #uniform([1]为1*1的矩阵，即一个数\n",
        "        Weights = tf.Variable(tf.random_uniform([1], -1.0, 1.0))\n",
        "        tf.summary.histogram('Weights' ,Weights)\n",
        "    with tf.name_scope('biases'):\n",
        "        #偏差为零，zeros([1]为一个1*1的零矩阵，即初始偏差为零\n",
        "        biases = tf.Variable(tf.zeros([1]))\n",
        "        tf.summary.histogram('biases' ,biases)\n",
        "    with tf.name_scope('Wx_plus_b'):\n",
        "        #权值与x相乘并加偏差\n",
        "        y = Weights * x + biases \n",
        "\n",
        "#Mean Squared Error)\n",
        "with tf.name_scope('Mean_Squared_Error'):\n",
        "    #方差，(y-y_)平方，求和，取均值\n",
        "    loss = tf.reduce_mean(tf.square(y-y_))\n",
        "    tf.summary.scalar('loss', loss)\n",
        "\n",
        "#Optimizer\n",
        "with tf.name_scope('train'):\n",
        "    #定义梯度下降法优化函数，优化，步长为0.1\n",
        "    optimizer = tf.train.GradientDescentOptimizer(0.1)\n",
        "    #tf.summary.scalar('optimizer', optimizer)\n",
        "    train_step = optimizer.minimize(loss)\n",
        "\n",
        "  \n",
        "def feed_dict():\n",
        "    xs, ys =x_data, x_data * 0.8 + 0.1\n",
        "    return {x:xs, y_:ys}\n",
        "\n",
        "\n",
        "merged = tf.summary.merge_all()\n",
        "\n",
        "init = tf.global_variables_initializer()\n",
        "#session\n",
        "sess = tf.Session()\n",
        "\n",
        "#create FileWriter and loadd graph\n",
        "train_writer = tf.summary.FileWriter('./log', sess.graph)\n",
        "\n",
        "sess.run(init)\n",
        "\n",
        "plt.figure(figsize=(10, 10), dpi=80)\n",
        "plt.ion()\n",
        "\n",
        "\n",
        "for step in range(MAX_STEPS):\n",
        "    \n",
        "    plt.title(\"scatter diagram.\")\n",
        "    plt.xlabel(\"x_data\")\n",
        "    plt.ylabel(\"y_data\")\n",
        "    plt.xlim(xmax=1, xmin=0)\n",
        "    plt.ylim(ymax=1,ymin=0)\n",
        "    plt.plot(x_data,y_data,'ro',color='r',linewidth=0.5)\n",
        "\n",
        "    #summary, loss = sess.run([merged,loss],feed_dict = {x:x_data})\n",
        "    \n",
        "    run_options = tf.RunOptions(trace_level=tf.RunOptions.FULL_TRACE)\n",
        "    summary, _ = sess.run([merged,train_step],feed_dict=feed_dict(),options=run_options)\n",
        "    train_writer.add_summary(summary, step)\n",
        "    #print(step)\n",
        "    #if step % 10 == 0:\n",
        "    #    plt.plot(x_data,y_re,'ro', color='m',linewidth=0.5)\n",
        "    #if step % 15 == 0:\n",
        "    #    plt.plot(x_data,y_re,'ro', color='g',linewidth=0.5)\n",
        "\n",
        "\n",
        "plt.ioff()\n",
        "plt.show()\n",
        "    \n",
        "#close FileWriter\n",
        "train_writer.close()\n",
        "sess.close()\n",
        "\n",
        "print(\"Done !!!\")\n",
        "\n",
        "## TensorBoard\n",
        "\n",
        "#https://www.dlology.com/blog/quick-guide-to-run-tensorboard-in-google-colab/\n",
        "\n",
        "!wget https://bin.equinox.io/c/4VmDzA7iaHb/ngrok-stable-linux-amd64.zip\n",
        "!unzip ngrok-stable-linux-amd64.zip\n",
        "\n",
        "LOG_DIR = './log'\n",
        "get_ipython().system_raw('tensorboard --logdir {} --host 0.0.0.0 --port 6006 &'.format(LOG_DIR))\n",
        "\n",
        "get_ipython().system_raw('./ngrok http 6006 &')\n",
        "\n",
        "\n",
        "! curl -s http://localhost:4040/api/tunnels | python3 -c \"import sys, json; print(json.load(sys.stdin)['tunnels'][0]['public_url'])\"\n",
        "\n"
      ],
      "execution_count": 0,
      "outputs": []
    }
  ]
}