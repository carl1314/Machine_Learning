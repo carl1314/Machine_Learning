{
  "nbformat": 4,
  "nbformat_minor": 0,
  "metadata": {
    "colab": {
      "name": "wxplusb.ipynb",
      "version": "0.3.2",
      "provenance": [],
      "collapsed_sections": [
        "wmpy_s3DYNFb",
        "toTJiz6iYAuC"
      ],
      "toc_visible": true,
      "include_colab_link": true
    },
    "kernelspec": {
      "name": "python3",
      "display_name": "Python 3"
    }
  },
  "cells": [
    {
      "cell_type": "markdown",
      "metadata": {
        "id": "view-in-github",
        "colab_type": "text"
      },
      "source": [
        "[View in Colaboratory](https://colab.research.google.com/github/LjBLincoln/Machine_Learning/blob/master/wxplusb.ipynb)"
      ]
    },
    {
      "metadata": {
        "id": "FIUgh1RYv7-k",
        "colab_type": "text"
      },
      "cell_type": "markdown",
      "source": [
        "# **Create Train Data and Test Data**"
      ]
    },
    {
      "metadata": {
        "id": "4bzN1lo4SpDa",
        "colab_type": "code",
        "colab": {}
      },
      "cell_type": "code",
      "source": [
        "import os\n",
        "\n",
        "import numpy as np \n",
        "\n",
        "TRAIN_DATA = 800\n",
        "TEST_DATA = 200\n",
        "\n",
        "TRAIN_DATA_FILE = 'train'\n",
        "TEST_DATA_FILE = 'test'\n",
        "\n",
        "def create_DATA(file,type):\n",
        "    if (os.path.isfile(file)):\n",
        "        x_data = np.loadtxt(file)\n",
        "    else:\n",
        "        X = np.random.rand(type).astype(np.float32)\n",
        "        x_data = np.array([X,np.random.uniform(0,3, type) + X]).reshape(type,2)\n",
        "        np.savetxt(file,x_data)\n",
        "    \n",
        "    #print(x_data)\n",
        "\n",
        "create_DATA(TRAIN_DATA_FILE,TRAIN_DATA)\n",
        "create_DATA(TEST_DATA_FILE,TEST_DATA)"
      ],
      "execution_count": 0,
      "outputs": []
    },
    {
      "metadata": {
        "id": "id4g8pC0xg3G",
        "colab_type": "text"
      },
      "cell_type": "markdown",
      "source": [
        "# **Create TFRecord **"
      ]
    },
    {
      "metadata": {
        "id": "IODU2CDUxtDb",
        "colab_type": "code",
        "colab": {}
      },
      "cell_type": "code",
      "source": [
        "# -*- coding: utf-8 -*-\n",
        "import os \n",
        "import tensorflow as tf\n",
        "\n",
        "TRAIN_DATA_FILE = 'train'\n",
        "TEST_DATA_FILE = 'test'\n",
        "\n",
        "def _float_feature(value):\n",
        "    return tf.train.Feature(float_list = tf.train.FloatList(value = [value]))\n",
        "  \n",
        "def create_TFRecord(file):\n",
        "    classes = np.loadtxt(file)\n",
        "    #print(classes) \n",
        "    writer = tf.python_io.TFRecordWriter(file +'.tfrecords')\n",
        "\n",
        "    for index, data in enumerate(classes):\n",
        "        #print(index,data[0],data[1]) \n",
        "        example = tf.train.Example(features = tf.train.Features(feature = {\"y_data\": _float_feature(data[1]),\n",
        "                                                                           \"x_data\": _float_feature(data[0]),                                                                          \n",
        "                                                                            }))\n",
        "        writer.write(example.SerializeToString()) \n",
        "    writer.close()\n",
        "  \n",
        "create_TFRecord(TRAIN_DATA_FILE)\n",
        "create_TFRecord(TEST_DATA_FILE)"
      ],
      "execution_count": 0,
      "outputs": []
    },
    {
      "metadata": {
        "id": "g0uhrL_wB853",
        "colab_type": "text"
      },
      "cell_type": "markdown",
      "source": [
        "# **Read TFRecord **"
      ]
    },
    {
      "metadata": {
        "id": "NUBwn52wwWzt",
        "colab_type": "text"
      },
      "cell_type": "markdown",
      "source": [
        "## **Methord-One**"
      ]
    },
    {
      "metadata": {
        "id": "JnQNHIFEYqNs",
        "colab_type": "code",
        "colab": {
          "base_uri": "https://localhost:8080/",
          "height": 54
        },
        "outputId": "b42c189b-cffe-4f1e-fbf5-fe144e9e23b6"
      },
      "cell_type": "code",
      "source": [
        "'''import tensorflow as tf\n",
        "\n",
        "\n",
        "def read_and_decode_one(filename, batch_size): # read train.tfrecords\n",
        "    filename_queue = tf.train.string_input_producer([filename])# create a queue\n",
        "\n",
        "    reader = tf.TFRecordReader()\n",
        "    _, serialized_example = reader.read(filename_queue)#return file_name and file\n",
        "    features = tf.parse_single_example(serialized_example,\n",
        "                                       features={\n",
        "                                           'x_data': tf.FixedLenFeature([], tf.float32),\n",
        "                                           'y_data' : tf.FixedLenFeature([], tf.float32),\n",
        "                                       })#return image and label\n",
        "\n",
        "    X_ = tf.cast(features['x_data'], tf.float32)\n",
        "    Y_ = tf.cast(features['y_data'], tf.float32) \n",
        "\n",
        "    x_batch, y_batch = tf.train.shuffle_batch([X_, Y_],\n",
        "                                                    batch_size= batch_size,\n",
        "                                                    num_threads=64,\n",
        "                                                    capacity=2000,\n",
        "                                                    min_after_dequeue=1500,\n",
        "                                                    )\n",
        "    print(x_batch)\n",
        "    print(y_batch)\n",
        "    return x_batch, tf.reshape(y_batch,[batch_size])\n",
        "'''"
      ],
      "execution_count": 3,
      "outputs": [
        {
          "output_type": "execute_result",
          "data": {
            "text/plain": [
              "\"import tensorflow as tf\\n\\n\\ndef read_and_decode_one(filename, batch_size): # read train.tfrecords\\n    filename_queue = tf.train.string_input_producer([filename])# create a queue\\n\\n    reader = tf.TFRecordReader()\\n    _, serialized_example = reader.read(filename_queue)#return file_name and file\\n    features = tf.parse_single_example(serialized_example,\\n                                       features={\\n                                           'x_data': tf.FixedLenFeature([], tf.float32),\\n                                           'y_data' : tf.FixedLenFeature([], tf.float32),\\n                                       })#return image and label\\n\\n    X_ = tf.cast(features['x_data'], tf.float32)\\n    Y_ = tf.cast(features['y_data'], tf.float32) \\n\\n    x_batch, y_batch = tf.train.shuffle_batch([X_, Y_],\\n                                                    batch_size= batch_size,\\n                                                    num_threads=64,\\n                                                    capacity=2000,\\n                                                    min_after_dequeue=1500,\\n                                                    )\\n    print(x_batch)\\n    print(y_batch)\\n    return x_batch, tf.reshape(y_batch,[batch_size])\\n\""
            ]
          },
          "metadata": {
            "tags": []
          },
          "execution_count": 3
        }
      ]
    },
    {
      "metadata": {
        "id": "JJQ_PB83weF6",
        "colab_type": "text"
      },
      "cell_type": "markdown",
      "source": [
        "## **Methord-Two**"
      ]
    },
    {
      "metadata": {
        "id": "o7ZdSZDMfVDE",
        "colab_type": "code",
        "colab": {
          "base_uri": "https://localhost:8080/",
          "height": 54
        },
        "outputId": "ef01ca4d-8da4-427a-c182-2ceb170773e4"
      },
      "cell_type": "code",
      "source": [
        "import tensorflow as tf\n",
        "\n",
        "from tensorflow.contrib.learn.python.learn.datasets import base\n",
        "\n",
        "\n",
        "def pares_tfrecorder(serialized_example):\n",
        "    features = tf.parse_single_example(serialized_example,\n",
        "                                       features={\n",
        "                                           'x_data': tf.FixedLenFeature([], tf.float32),\n",
        "                                           'y_data' : tf.FixedLenFeature([], tf.float32),\n",
        "                                       })\n",
        "\n",
        "    X_ = tf.cast(features['x_data'], tf.float32)\n",
        "    Y_ = tf.cast(features['y_data'], tf.float32) \n",
        "\n",
        "    return X_,Y_\n",
        "\n",
        "def read_and_decode_two(filename,batch):\n",
        "    dataset = tf.data.TFRecordDataset(filename)\n",
        "    #print(dataset)\n",
        "    dataset = dataset.map(pares_tfrecorder)\n",
        "    dataset = dataset.batch(batch).repeat(1)\n",
        "    \n",
        "    return dataset\n",
        "\n",
        "'''\n",
        "tfrecords_file = 'train.tfrecords'\n",
        "\n",
        "BATCH_SIZE = 20\n",
        "data = read_and_decode(tfrecords_file,BATCH_SIZE)\n",
        "\n",
        "iterator = data.make_one_shot_iterator()\n",
        "\n",
        "Xs,Ys = iterator.get_next()\n",
        "\n",
        "print(Xs,Ys)\n",
        "\n",
        "with tf.Session() as sess:\n",
        "  print(sess.run([Xs,Ys]))\n",
        "'''"
      ],
      "execution_count": 4,
      "outputs": [
        {
          "output_type": "execute_result",
          "data": {
            "text/plain": [
              "\"\\ntfrecords_file = 'train.tfrecords'\\n\\nBATCH_SIZE = 20\\ndata = read_and_decode(tfrecords_file,BATCH_SIZE)\\n\\niterator = data.make_one_shot_iterator()\\n\\nXs,Ys = iterator.get_next()\\n\\nprint(Xs,Ys)\\n\\nwith tf.Session() as sess:\\n  print(sess.run([Xs,Ys]))\\n\""
            ]
          },
          "metadata": {
            "tags": []
          },
          "execution_count": 4
        }
      ]
    },
    {
      "metadata": {
        "id": "gqOznSE1o3cZ",
        "colab_type": "text"
      },
      "cell_type": "markdown",
      "source": [
        "# **Show TFRecords**"
      ]
    },
    {
      "metadata": {
        "id": "D1SmdM2po7VS",
        "colab_type": "code",
        "colab": {
          "base_uri": "https://localhost:8080/",
          "height": 54
        },
        "outputId": "725acb30-11c0-46c6-8094-83d1dd267a5f"
      },
      "cell_type": "code",
      "source": [
        "'''\n",
        "import numpy as np \n",
        "\n",
        "tfrecords_file = 'train.tfrecords'\n",
        "\n",
        "BATCH_SIZE = 8\n",
        "x_batch, y_batch = read_and_decode_one(tfrecords_file, BATCH_SIZE)\n",
        "#print(x_batch)\n",
        "#print(y_batch)\n",
        "with tf.Session()  as sess:\n",
        "\n",
        "    i = 0\n",
        "    coord = tf.train.Coordinator()\n",
        "    threads = tf.train.start_queue_runners(coord=coord)\n",
        "\n",
        "    try:\n",
        "        while not coord.should_stop() and i<1:\n",
        "            # just plot one batch size\n",
        "            x, y = sess.run([x_batch, y_batch])\n",
        "            for j in np.arange(BATCH_SIZE):\n",
        "                print(y_batch)\n",
        "                print(y)\n",
        "            i+=1\n",
        "    except tf.errors.OutOfRangeError:\n",
        "        print('done!')\n",
        "    finally:\n",
        "        coord.request_stop()\n",
        "    coord.join(threads)\n",
        "'''"
      ],
      "execution_count": 5,
      "outputs": [
        {
          "output_type": "execute_result",
          "data": {
            "text/plain": [
              "\"\\nimport numpy as np \\n\\ntfrecords_file = 'train.tfrecords'\\n\\nBATCH_SIZE = 8\\nx_batch, y_batch = read_and_decode_one(tfrecords_file, BATCH_SIZE)\\n#print(x_batch)\\n#print(y_batch)\\nwith tf.Session()  as sess:\\n\\n    i = 0\\n    coord = tf.train.Coordinator()\\n    threads = tf.train.start_queue_runners(coord=coord)\\n\\n    try:\\n        while not coord.should_stop() and i<1:\\n            # just plot one batch size\\n            x, y = sess.run([x_batch, y_batch])\\n            for j in np.arange(BATCH_SIZE):\\n                print(y_batch)\\n                print(y)\\n            i+=1\\n    except tf.errors.OutOfRangeError:\\n        print('done!')\\n    finally:\\n        coord.request_stop()\\n    coord.join(threads)\\n\""
            ]
          },
          "metadata": {
            "tags": []
          },
          "execution_count": 5
        }
      ]
    },
    {
      "metadata": {
        "id": "toYgfmOAjL-F",
        "colab_type": "text"
      },
      "cell_type": "markdown",
      "source": [
        "# Demo (y = wx+b)"
      ]
    },
    {
      "metadata": {
        "id": "ZqOUVlNwjEin",
        "colab_type": "code",
        "outputId": "88cfae3a-9b45-4d73-d8a0-181acf8e72b1",
        "colab": {
          "base_uri": "https://localhost:8080/",
          "height": 978
        }
      },
      "cell_type": "code",
      "source": [
        "# _*_ coding: utf-8 _*_\n",
        "\n",
        "import matplotlib.pyplot as plt\n",
        "\n",
        "import tensorflow as tf\n",
        "\n",
        "import numpy as np\n",
        "\n",
        "import os\n",
        "\n",
        "BATCH_SIZE = 20\n",
        "\n",
        "TRAIN_TF_REDOCRD_FILE = 'train.tfrecords'\n",
        "TEST_TF_REDOCRD_FILE = 'test.tfrecords'\n",
        "\n",
        "MAX_STEPS = 500\n",
        "\n",
        "LOG_DIR = './log'\n",
        "MODELS_DIR = LOG_DIR + '/models/test_model.ckpt'\n",
        "\n",
        "\n",
        "#input\n",
        "with tf.name_scope('input'):\n",
        "    with tf.name_scope('x'):\n",
        "        x = tf.placeholder(tf.float32, shape = (BATCH_SIZE,), name = \"x\")\n",
        "        #print(x)\n",
        "    with tf.name_scope('y_'):\n",
        "        y_ = tf.placeholder(tf.float32, shape = (BATCH_SIZE,), name = \"y_\")\n",
        "\n",
        "        \n",
        "# layer\n",
        "with tf.name_scope('layer'):\n",
        "    with tf.name_scope('weights'):\n",
        "        ###对权进行赋值 在-1到1之间随机数\n",
        "        Weights = tf.Variable(tf.random_uniform([1], -1.0, 1.0))\n",
        "        tf.summary.histogram('Weights' ,Weights)\n",
        "    with tf.name_scope('biases'):\n",
        "        #初始偏差为零\n",
        "        biases = tf.Variable(tf.zeros([1]))\n",
        "        tf.summary.histogram('biases' ,biases)\n",
        "    with tf.name_scope('Wx_plus_b'):\n",
        "        #权值与x相乘并加偏差\n",
        "        y = Weights * x + biases \n",
        "\n",
        "#Mean Squared Error)\n",
        "with tf.name_scope('Mean_Squared_Error'):\n",
        "    #方差，(y-y_)平方，求和，取均值\n",
        "    loss = tf.reduce_mean(tf.square(y-y_),name='loss')\n",
        "    tf.summary.scalar('loss', loss)\n",
        "    \n",
        "#Optimizer\n",
        "with tf.name_scope('train'):\n",
        "    #定义梯度下降法优化函数优化，步长为0.5\n",
        "    optimizer = tf.train.GradientDescentOptimizer(0.1)\n",
        "    #tf.summary.scalar('optimizer', optimizer)\n",
        "    train_step = optimizer.minimize(loss)\n",
        "\n",
        "  \n",
        "def feed_dict(train,batch_sieze):\n",
        "    #xs, ys =x_data[0], x_data[1]\n",
        "    if train:\n",
        "      data = read_and_decode_two(TRAIN_TF_REDOCRD_FILE,batch_sieze)\n",
        "    else :\n",
        "      data = read_and_decode_two(TEST_TF_REDOCRD_FILE,batch_sieze)\n",
        "\n",
        "    next_element = data.make_one_shot_iterator().get_next()\n",
        "\n",
        "    return next_element\n",
        "\n",
        "#Xs,Ys = feed_dict(True,BATCH_SIZE)\n",
        "\n",
        "merged = tf.summary.merge_all()\n",
        "\n",
        "step = 0\n",
        "\n",
        "#session\n",
        "with  tf.Session() as sess:\n",
        "  \n",
        "    init = tf.global_variables_initializer()\n",
        "    \n",
        "    #create FileWriter and loadd graph\n",
        "    train_writer = tf.summary.FileWriter(LOG_DIR, sess.graph)\n",
        "\n",
        "    sess.run(init)\n",
        "    \n",
        "    plt.figure(figsize=(10, 10), dpi=80)\n",
        "    plt.ion()\n",
        "\n",
        "    #Save\n",
        "    saver = tf.train.Saver()\n",
        "    \n",
        "    coord = tf.train.Coordinator()\n",
        "    threads = tf.train.start_queue_runners(coord=coord)\n",
        "    \n",
        "    try:\n",
        "        while not coord.should_stop() and  step <= MAX_STEPS:\n",
        "            x_data ,y_data = sess.run(fetches=feed_dict(True,BATCH_SIZE))\n",
        "            plt.title(\" Diagram.\")\n",
        "            plt.xlabel(\"x_data\")\n",
        "            plt.ylabel(\"y_\")\n",
        "            plt.plot(x_data,y_data,'ro',color='b',linewidth=0.5)\n",
        "\n",
        "            run_options = tf.RunOptions(trace_level=tf.RunOptions.FULL_TRACE)\n",
        "            \n",
        "            #print(x_data) \n",
        "            #print(y_data)\n",
        "        \n",
        "            summary,y_re,loss_value, _ = sess.run([merged,y,loss,train_step],feed_dict={x:x_data,y_:y_data},options=run_options)\n",
        "        \n",
        "            train_writer.add_summary(summary, step)\n",
        "        \n",
        "             #print(feed_dict())\n",
        "            if step % 50 == 0:\n",
        "                print(\"After %d  step(s), loss is %g, weight is %g , bias is %g\" %(step, loss_value,sess.run(Weights),sess.run(biases)))\n",
        "                saver.save(sess,MODELS_DIR, global_step=step)\n",
        "    \n",
        "    \n",
        "            if step % 10 == 0:\n",
        "                plt.plot(x_data,y_re,'ro', color='g',linewidth=0.5)\n",
        "            if loss_value <= 0.0863299:\n",
        "                plt.plot(x_data,y_re,'ro', color='r',linewidth=0.5)\n",
        "            step += 1\n",
        "            \n",
        "            #if step > MAX_STEPS :\n",
        "            #    freeze_graph(MODELS_DIR)\n",
        "\n",
        "    except tf.errors.OutOfRangeError:\n",
        "        print('done!')\n",
        "    finally:\n",
        "        coord.request_stop()\n",
        "    coord.join(threads)\n",
        "\n",
        "    plt.ioff()\n",
        "    plt.show()\n",
        "    \n",
        "    #close FileWriter\n",
        "    train_writer.close()\n",
        "\n",
        "\n",
        "print(\"Done !!!\")\n",
        "\n"
      ],
      "execution_count": 6,
      "outputs": [
        {
          "output_type": "stream",
          "text": [
            "WARNING:tensorflow:From <ipython-input-6-bc514ec75794>:92: start_queue_runners (from tensorflow.python.training.queue_runner_impl) is deprecated and will be removed in a future version.\n",
            "Instructions for updating:\n",
            "To construct input pipelines, use the `tf.data` module.\n",
            "WARNING:tensorflow:`tf.train.start_queue_runners()` was called when no queue runners were defined. You can safely remove the call to this deprecated function.\n",
            "After 0  step(s), loss is 0.120682, weight is 0.870574 , bias is 0.00906082\n",
            "After 50  step(s), loss is 0.0849602, weight is 0.507788 , bias is 0.197758\n",
            "After 100  step(s), loss is 0.075408, weight is 0.315682 , bias is 0.289045\n",
            "After 150  step(s), loss is 0.0728205, weight is 0.215698 , bias is 0.336556\n",
            "After 200  step(s), loss is 0.0721195, weight is 0.16366 , bias is 0.361283\n",
            "After 250  step(s), loss is 0.0719297, weight is 0.136576 , bias is 0.374153\n",
            "After 300  step(s), loss is 0.0718783, weight is 0.12248 , bias is 0.380851\n",
            "After 350  step(s), loss is 0.0718643, weight is 0.115143 , bias is 0.384338\n",
            "After 400  step(s), loss is 0.0718606, weight is 0.111325 , bias is 0.386152\n",
            "After 450  step(s), loss is 0.0718595, weight is 0.109338 , bias is 0.387096\n",
            "After 500  step(s), loss is 0.0718593, weight is 0.108303 , bias is 0.387588\n"
          ],
          "name": "stdout"
        },
        {
          "output_type": "display_data",
          "data": {
            "image/png": "[encoded data removed]",
            "text/plain": [
              "<matplotlib.figure.Figure at 0x7efd3ea5b7b8>"
            ]
          },
          "metadata": {
            "tags": []
          }
        },
        {
          "output_type": "stream",
          "text": [
            "Done !!!\n"
          ],
          "name": "stdout"
        }
      ]
    },
    {
      "metadata": {
        "id": "rk31X14qUMIm",
        "colab_type": "text"
      },
      "cell_type": "markdown",
      "source": [
        "\n",
        "# **Freeze Graph**"
      ]
    },
    {
      "metadata": {
        "id": "RgszozhgI7yU",
        "colab_type": "code",
        "colab": {
          "base_uri": "https://localhost:8080/",
          "height": 85
        },
        "outputId": "56e43b90-aaa4-4786-aa7c-fcdb6fd0b697"
      },
      "cell_type": "code",
      "source": [
        "from tensorflow.python.framework import graph_util\n",
        "\n",
        "LOG_DIR = './log'\n",
        "MODELS_DIR = LOG_DIR + '/models/'\n",
        "\n",
        "def freeze_graph(model_folder,modelsName):\n",
        "    checkpoint = tf.train.get_checkpoint_state(model_folder)\n",
        "    input_checkpoint = checkpoint.model_checkpoint_path\n",
        "    #print(checkpoint)\n",
        "    #print(input_checkpoint)\n",
        "    absolute_model_folder = \"/\".join(input_checkpoint.split('/')[:-1])\n",
        "    output_graph = absolute_model_folder + \"/\"+modelsName+\".pb\"\n",
        "    #print(absolute_model_folder)\n",
        "    #print(output_graph)\n",
        "    \n",
        "    output_node_names = \"Mean_Squared_Error/sub\" #now is bad!!!!\n",
        "    \n",
        "    clear_devices = True\n",
        "    \n",
        "    saver = tf.train.import_meta_graph(input_checkpoint + '.meta', clear_devices=clear_devices)\n",
        "    #print(saver)\n",
        "    \n",
        "    graph = tf.get_default_graph()\n",
        "    \n",
        "    input_graph_def = graph.as_graph_def()\n",
        "    \n",
        "    with tf.Session() as sess:\n",
        "        saver.restore(sess, input_checkpoint)\n",
        " \n",
        "        # We use a built-in TF helper to export variables to constant\n",
        "        output_graph_def = graph_util.convert_variables_to_constants(\n",
        "            sess, \n",
        "            input_graph_def, \n",
        "            output_node_names.split(\",\") # We split on comma for convenience\n",
        "        ) \n",
        " \n",
        "        # Finally we serialize and dump the output graph to the filesystem\n",
        "        with tf.gfile.GFile(output_graph, \"wb\") as f:\n",
        "            f.write(output_graph_def.SerializeToString())\n",
        "        print(\"%d ops in the final graph.\" % len(output_graph_def.node))\n",
        "    \n",
        "    \n",
        "with tf.Session() as sess:\n",
        "    freeze_graph(MODELS_DIR,'test')\n",
        "    #print(MODELS_DIR)"
      ],
      "execution_count": 7,
      "outputs": [
        {
          "output_type": "stream",
          "text": [
            "INFO:tensorflow:Restoring parameters from ./log/models/test_model.ckpt-500\n",
            "INFO:tensorflow:Froze 2 variables.\n",
            "INFO:tensorflow:Converted 2 variables to const ops.\n",
            "9 ops in the final graph.\n"
          ],
          "name": "stdout"
        }
      ]
    },
    {
      "metadata": {
        "id": "CYeqndibUT7I",
        "colab_type": "text"
      },
      "cell_type": "markdown",
      "source": [
        "# **Load pb Model**"
      ]
    },
    {
      "metadata": {
        "id": "MO6IZTKQUazD",
        "colab_type": "code",
        "colab": {
          "base_uri": "https://localhost:8080/",
          "height": 88
        },
        "outputId": "e8c61120-70d4-46f9-d6af-fe1c7111a14f"
      },
      "cell_type": "code",
      "source": [
        "import argparse\n",
        "import os\n",
        "import sys\n",
        "\n",
        "import tensorflow as tf\n",
        "from tensorflow.python.platform import gfile\n",
        "\n",
        "LOG_DIR = './log'\n",
        "MODELS_DIR = LOG_DIR + '/models/'\n",
        "\n",
        "def load(MODELS_DIR,fileName):\n",
        "  graph = tf.get_default_graph()\n",
        "  graphdef = graph.as_graph_def()\n",
        "  graphdef.ParseFromString(gfile.FastGFile(MODELS_DIR+fileName, \"rb\").read())\n",
        "  _ = tf.import_graph_def(graphdef, name=\"\")\n",
        "  summary_write = tf.summary.FileWriter(LOG_DIR + '/graph', graph)\n",
        "  summary_write.close()\n",
        "\n",
        "\n",
        "load(MODELS_DIR,'test.pb')\n",
        "\n"
      ],
      "execution_count": 8,
      "outputs": [
        {
          "output_type": "stream",
          "text": [
            "WARNING:tensorflow:From <ipython-input-8-64188340700e>:14: FastGFile.__init__ (from tensorflow.python.platform.gfile) is deprecated and will be removed in a future version.\n",
            "Instructions for updating:\n",
            "Use tf.gfile.GFile.\n"
          ],
          "name": "stdout"
        }
      ]
    },
    {
      "metadata": {
        "id": "fIad57Jh9cEe",
        "colab_type": "text"
      },
      "cell_type": "markdown",
      "source": [
        "# **TensorBoard**"
      ]
    },
    {
      "metadata": {
        "id": "A_n-owW89cfN",
        "colab_type": "code",
        "colab": {
          "base_uri": "https://localhost:8080/",
          "height": 255
        },
        "outputId": "a8b76717-7eea-462a-add9-96b61a369a59"
      },
      "cell_type": "code",
      "source": [
        "#https://www.dlology.com/blog/quick-guide-to-run-tensorboard-in-google-colab/\n",
        "\n",
        "!wget https://bin.equinox.io/c/4VmDzA7iaHb/ngrok-stable-linux-amd64.zip\n",
        "!unzip ngrok-stable-linux-amd64.zip\n",
        "\n",
        "LOG_DIR = './log'\n",
        "get_ipython().system_raw('tensorboard --logdir {} --host 0.0.0.0 --port 6006 &'.format(LOG_DIR))\n",
        "\n",
        "get_ipython().system_raw('./ngrok http 6006 &')\n",
        "\n",
        "\n",
        "! curl -s http://localhost:4040/api/tunnels | python3 -c \"import sys, json; print(json.load(sys.stdin)['tunnels'][0]['public_url'])\"\n",
        "\n"
      ],
      "execution_count": 9,
      "outputs": [
        {
          "output_type": "stream",
          "text": [
            "--2018-10-24 09:55:42--  https://bin.equinox.io/c/4VmDzA7iaHb/ngrok-stable-linux-amd64.zip\n",
            "Resolving bin.equinox.io (bin.equinox.io)... 52.87.35.92, 54.173.32.212, 54.164.206.44, ...\n",
            "Connecting to bin.equinox.io (bin.equinox.io)|52.87.35.92|:443... connected.\n",
            "HTTP request sent, awaiting response... 200 OK\n",
            "Length: 5363700 (5.1M) [application/octet-stream]\n",
            "Saving to: ‘ngrok-stable-linux-amd64.zip’\n",
            "\n",
            "ngrok-stable-linux- 100%[===================>]   5.11M  8.85MB/s    in 0.6s    \n",
            "\n",
            "2018-10-24 09:55:44 (8.85 MB/s) - ‘ngrok-stable-linux-amd64.zip’ saved [5363700/5363700]\n",
            "\n",
            "Archive:  ngrok-stable-linux-amd64.zip\n",
            "  inflating: ngrok                   \n",
            "http://97de9e93.ngrok.io\n"
          ],
          "name": "stdout"
        }
      ]
    },
    {
      "metadata": {
        "id": "wmpy_s3DYNFb",
        "colab_type": "text"
      },
      "cell_type": "markdown",
      "source": [
        "# **Test Numpy**"
      ]
    },
    {
      "metadata": {
        "id": "9zgjhJNWhxpT",
        "colab_type": "code",
        "colab": {
          "base_uri": "https://localhost:8080/",
          "height": 0
        },
        "outputId": "3dde4ba8-2c1f-49c9-d5d9-10691cdbc773"
      },
      "cell_type": "code",
      "source": [
        "'''import matplotlib.pyplot as plt\n",
        "\n",
        "import numpy as np\n",
        "\n",
        "MAX_STEPS = 500\n",
        "\n",
        "NUM_EXAMPLES = 10000\n",
        "\n",
        "# create data 生成100个0-1之间的随机数   np.random.rand(100) 1*100的矩阵，其每个元素为0-1的随机数\n",
        "#x_data = np.random.rand(NUM_EXAMPLES).astype(np.float32)\n",
        "\n",
        "#y_data = x_data\n",
        "\n",
        "#x_data =np.array([np.random.uniform(1,1.2, NUM_EXAMPLES),np.random.uniform(1,1.2, NUM_EXAMPLES)]) #np.array([np.linspace(1, 4, NUM_EXAMPLES), np.linspace(3, 9, NUM_EXAMPLES)])\n",
        "X = np.random.rand(NUM_EXAMPLES).astype(np.float32)\n",
        "#print(X)\n",
        "x_data = np.array([X,np.random.uniform(0,1, NUM_EXAMPLES)] + X ).reshape(NUM_EXAMPLES,2)\n",
        "print(x_data)\n",
        "\n",
        "plt.figure(figsize=(10, 10), dpi=80)\n",
        "plt.ion()\n",
        "plt.title(\" Diagram.\")\n",
        "plt.xlabel(\"x_data\")\n",
        "plt.ylabel(\"y_\")\n",
        "#plt.xlim(xmax=1, xmin=0)\n",
        "#plt.ylim(ymax=1,ymin=0)\n",
        "plt.plot(x_data[0:1],x_data[0:1],'ro',color='r',linewidth=0.5)\n",
        "plt.ioff()\n",
        "plt.show()'''"
      ],
      "execution_count": 10,
      "outputs": [
        {
          "output_type": "execute_result",
          "data": {
            "text/plain": [
              "'import matplotlib.pyplot as plt\\n\\nimport numpy as np\\n\\nMAX_STEPS = 500\\n\\nNUM_EXAMPLES = 10000\\n\\n# create data 生成100个0-1之间的随机数   np.random.rand(100) 1*100的矩阵，其每个元素为0-1的随机数\\n#x_data = np.random.rand(NUM_EXAMPLES).astype(np.float32)\\n\\n#y_data = x_data\\n\\n#x_data =np.array([np.random.uniform(1,1.2, NUM_EXAMPLES),np.random.uniform(1,1.2, NUM_EXAMPLES)]) #np.array([np.linspace(1, 4, NUM_EXAMPLES), np.linspace(3, 9, NUM_EXAMPLES)])\\nX = np.random.rand(NUM_EXAMPLES).astype(np.float32)\\n#print(X)\\nx_data = np.array([X,np.random.uniform(0,1, NUM_EXAMPLES)] + X ).reshape(NUM_EXAMPLES,2)\\nprint(x_data)\\n\\nplt.figure(figsize=(10, 10), dpi=80)\\nplt.ion()\\nplt.title(\" Diagram.\")\\nplt.xlabel(\"x_data\")\\nplt.ylabel(\"y_\")\\n#plt.xlim(xmax=1, xmin=0)\\n#plt.ylim(ymax=1,ymin=0)\\nplt.plot(x_data[0:1],x_data[0:1],\\'ro\\',color=\\'r\\',linewidth=0.5)\\nplt.ioff()\\nplt.show()'"
            ]
          },
          "metadata": {
            "tags": []
          },
          "execution_count": 10
        }
      ]
    },
    {
      "metadata": {
        "id": "toTJiz6iYAuC",
        "colab_type": "text"
      },
      "cell_type": "markdown",
      "source": [
        "# **Tensorboard Projector**"
      ]
    },
    {
      "metadata": {
        "id": "nvnaWQIOTBy7",
        "colab_type": "code",
        "colab": {
          "base_uri": "https://localhost:8080/",
          "height": 0
        },
        "outputId": "278e52a3-7da6-481d-c1c7-c1e0f4a1dbee"
      },
      "cell_type": "code",
      "source": [
        "'''import matplotlib.pyplot as plt\n",
        "import tensorflow as tf\n",
        "import numpy as np\n",
        "import os\n",
        "\n",
        "from tensorflow.contrib.tensorboard.plugins import projector\n",
        "from tensorflow.examples.tutorials.mnist import input_data\n",
        "\n",
        "LOG_DIR = './'\n",
        "NAME_TO_VISUALISE_VARIABLE = \"mnistembedding\"\n",
        "TO_EMBED_COUNT = 500\n",
        "\n",
        "\n",
        "path_for_mnist_sprites ='mnistdigits.png'  #os.path.join(LOG_DIR,'mnistdigits.png')\n",
        "path_for_mnist_metadata ='metadata.tsv'  #os.path.join(LOG_DIR,'metadata.tsv')\n",
        "\n",
        "mnist = input_data.read_data_sets(\"MNIST_data/\", one_hot=False)\n",
        "batch_xs, batch_ys = mnist.train.next_batch(TO_EMBED_COUNT)\n",
        "\n",
        "embedding_var = tf.Variable(batch_xs, name=NAME_TO_VISUALISE_VARIABLE)\n",
        "summary_writer = tf.summary.FileWriter(LOG_DIR)\n",
        "\n",
        "config = projector.ProjectorConfig()\n",
        "embedding = config.embeddings.add()\n",
        "embedding.tensor_name = embedding_var.name\n",
        "\n",
        "# Specify where you find the metadata\n",
        "embedding.metadata_path = path_for_mnist_metadata #'metadata.tsv'\n",
        "\n",
        "# Specify where you find the sprite (we will create this later)\n",
        "embedding.sprite.image_path = path_for_mnist_sprites #'mnistdigits.png'\n",
        "embedding.sprite.single_image_dim.extend([28,28])\n",
        "\n",
        "# Say that you want to visualise the embeddings\n",
        "projector.visualize_embeddings(summary_writer, config)\n",
        "sess = tf.InteractiveSession()\n",
        "sess.run(tf.global_variables_initializer())\n",
        "saver = tf.train.Saver()\n",
        "saver.save(sess, os.path.join(LOG_DIR, \"model.ckpt\"), 1)\n",
        "\n",
        "\n",
        "def create_sprite_image(images):\n",
        "    \"\"\"Returns a sprite image consisting of images passed as argument. Images should be count x width x height\"\"\"\n",
        "    if isinstance(images, list):\n",
        "        images = np.array(images)\n",
        "    img_h = images.shape[1]\n",
        "    img_w = images.shape[2]\n",
        "    n_plots = int(np.ceil(np.sqrt(images.shape[0])))\n",
        "\n",
        "\n",
        "    spriteimage = np.ones((img_h * n_plots ,img_w * n_plots ))\n",
        "\n",
        "    for i in range(n_plots):\n",
        "        for j in range(n_plots):\n",
        "            this_filter = i * n_plots + j\n",
        "            if this_filter < images.shape[0]:\n",
        "                this_img = images[this_filter]\n",
        "                spriteimage[i * img_h:(i + 1) * img_h,\n",
        "                  j * img_w:(j + 1) * img_w] = this_img\n",
        "\n",
        "    return spriteimage\n",
        "\n",
        "def vector_to_matrix_mnist(mnist_digits):\n",
        "    \"\"\"Reshapes normal mnist digit (batch,28*28) to matrix (batch,28,28)\"\"\"\n",
        "    return np.reshape(mnist_digits,(-1,28,28))\n",
        "\n",
        "def invert_grayscale(mnist_digits):\n",
        "    \"\"\" Makes black white, and white black \"\"\"\n",
        "    return 1-mnist_digits\n",
        "to_visualise = batch_xs\n",
        "to_visualise = vector_to_matrix_mnist(to_visualise)\n",
        "to_visualise = invert_grayscale(to_visualise)\n",
        "\n",
        "sprite_image = create_sprite_image(to_visualise)\n",
        "\n",
        "plt.imsave(path_for_mnist_sprites,sprite_image,cmap='gray')\n",
        "plt.imshow(sprite_image,cmap='gray')\n",
        "\n",
        "with open(path_for_mnist_metadata,'w') as f:\n",
        "    f.write(\"Index\\tLabel\\n\")\n",
        "    for index,label in enumerate(batch_ys):\n",
        "        f.write(\"%d\\t%d\\n\" % (index,label))\n",
        "print(\"Done !!!\")\n",
        "\n",
        "#https://www.dlology.com/blog/quick-guide-to-run-tensorboard-in-google-colab/\n",
        "\n",
        "!wget https://bin.equinox.io/c/4VmDzA7iaHb/ngrok-stable-linux-amd64.zip\n",
        "!unzip ngrok-stable-linux-amd64.zip\n",
        "\n",
        "LOG_DIR = './'\n",
        "get_ipython().system_raw('tensorboard --logdir {} --host 0.0.0.0 --port 6006 &'.format(LOG_DIR))\n",
        "\n",
        "get_ipython().system_raw('./ngrok http 6006 &')\n",
        "\n",
        "\n",
        "! curl -s http://localhost:4040/api/tunnels | python3 -c \"import sys, json; print(json.load(sys.stdin)['tunnels'][0]['public_url'])\"'''"
      ],
      "execution_count": 11,
      "outputs": [
        {
          "output_type": "execute_result",
          "data": {
            "text/plain": [
              "'import matplotlib.pyplot as plt\\nimport tensorflow as tf\\nimport numpy as np\\nimport os\\n\\nfrom tensorflow.contrib.tensorboard.plugins import projector\\nfrom tensorflow.examples.tutorials.mnist import input_data\\n\\nLOG_DIR = \\'./\\'\\nNAME_TO_VISUALISE_VARIABLE = \"mnistembedding\"\\nTO_EMBED_COUNT = 500\\n\\n\\npath_for_mnist_sprites =\\'mnistdigits.png\\'  #os.path.join(LOG_DIR,\\'mnistdigits.png\\')\\npath_for_mnist_metadata =\\'metadata.tsv\\'  #os.path.join(LOG_DIR,\\'metadata.tsv\\')\\n\\nmnist = input_data.read_data_sets(\"MNIST_data/\", one_hot=False)\\nbatch_xs, batch_ys = mnist.train.next_batch(TO_EMBED_COUNT)\\n\\nembedding_var = tf.Variable(batch_xs, name=NAME_TO_VISUALISE_VARIABLE)\\nsummary_writer = tf.summary.FileWriter(LOG_DIR)\\n\\nconfig = projector.ProjectorConfig()\\nembedding = config.embeddings.add()\\nembedding.tensor_name = embedding_var.name\\n\\n# Specify where you find the metadata\\nembedding.metadata_path = path_for_mnist_metadata #\\'metadata.tsv\\'\\n\\n# Specify where you find the sprite (we will create this later)\\nembedding.sprite.image_path = path_for_mnist_sprites #\\'mnistdigits.png\\'\\nembedding.sprite.single_image_dim.extend([28,28])\\n\\n# Say that you want to visualise the embeddings\\nprojector.visualize_embeddings(summary_writer, config)\\nsess = tf.InteractiveSession()\\nsess.run(tf.global_variables_initializer())\\nsaver = tf.train.Saver()\\nsaver.save(sess, os.path.join(LOG_DIR, \"model.ckpt\"), 1)\\n\\n\\ndef create_sprite_image(images):\\n    \"\"\"Returns a sprite image consisting of images passed as argument. Images should be count x width x height\"\"\"\\n    if isinstance(images, list):\\n        images = np.array(images)\\n    img_h = images.shape[1]\\n    img_w = images.shape[2]\\n    n_plots = int(np.ceil(np.sqrt(images.shape[0])))\\n\\n\\n    spriteimage = np.ones((img_h * n_plots ,img_w * n_plots ))\\n\\n    for i in range(n_plots):\\n        for j in range(n_plots):\\n            this_filter = i * n_plots + j\\n            if this_filter < images.shape[0]:\\n                this_img = images[this_filter]\\n                spriteimage[i * img_h:(i + 1) * img_h,\\n                  j * img_w:(j + 1) * img_w] = this_img\\n\\n    return spriteimage\\n\\ndef vector_to_matrix_mnist(mnist_digits):\\n    \"\"\"Reshapes normal mnist digit (batch,28*28) to matrix (batch,28,28)\"\"\"\\n    return np.reshape(mnist_digits,(-1,28,28))\\n\\ndef invert_grayscale(mnist_digits):\\n    \"\"\" Makes black white, and white black \"\"\"\\n    return 1-mnist_digits\\nto_visualise = batch_xs\\nto_visualise = vector_to_matrix_mnist(to_visualise)\\nto_visualise = invert_grayscale(to_visualise)\\n\\nsprite_image = create_sprite_image(to_visualise)\\n\\nplt.imsave(path_for_mnist_sprites,sprite_image,cmap=\\'gray\\')\\nplt.imshow(sprite_image,cmap=\\'gray\\')\\n\\nwith open(path_for_mnist_metadata,\\'w\\') as f:\\n    f.write(\"Index\\tLabel\\n\")\\n    for index,label in enumerate(batch_ys):\\n        f.write(\"%d\\t%d\\n\" % (index,label))\\nprint(\"Done !!!\")\\n\\n#https://www.dlology.com/blog/quick-guide-to-run-tensorboard-in-google-colab/\\n\\n!wget https://bin.equinox.io/c/4VmDzA7iaHb/ngrok-stable-linux-amd64.zip\\n!unzip ngrok-stable-linux-amd64.zip\\n\\nLOG_DIR = \\'./\\'\\nget_ipython().system_raw(\\'tensorboard --logdir {} --host 0.0.0.0 --port 6006 &\\'.format(LOG_DIR))\\n\\nget_ipython().system_raw(\\'./ngrok http 6006 &\\')\\n\\n\\n! curl -s http://localhost:4040/api/tunnels | python3 -c \"import sys, json; print(json.load(sys.stdin)[\\'tunnels\\'][0][\\'public_url\\'])\"'"
            ]
          },
          "metadata": {
            "tags": []
          },
          "execution_count": 11
        }
      ]
    }
  ]
}