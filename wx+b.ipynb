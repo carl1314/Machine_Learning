{
  "nbformat": 4,
  "nbformat_minor": 0,
  "metadata": {
    "colab": {
      "name": "wx+b.ipynb",
      "version": "0.3.2",
      "provenance": [],
      "collapsed_sections": [],
      "toc_visible": true,
      "include_colab_link": true
    },
    "kernelspec": {
      "name": "python3",
      "display_name": "Python 3"
    }
  },
  "cells": [
    {
      "cell_type": "markdown",
      "metadata": {
        "id": "view-in-github",
        "colab_type": "text"
      },
      "source": [
        "<a href=\"https://colab.research.google.com/github/LjBLincoln/Machine_Learning/blob/master/wx+b.ipynb\" target=\"_parent\"><img src=\"https://colab.research.google.com/assets/colab-badge.svg\" alt=\"Open In Colab\"/></a>"
      ]
    },
    {
      "metadata": {
        "id": "FIUgh1RYv7-k",
        "colab_type": "text"
      },
      "cell_type": "markdown",
      "source": [
        "# **Create Train Data and Test Data**"
      ]
    },
    {
      "metadata": {
        "id": "4bzN1lo4SpDa",
        "colab_type": "code",
        "colab": {}
      },
      "cell_type": "code",
      "source": [
        "import os\n",
        "\n",
        "import numpy as np \n",
        "\n",
        "TRAIN_DATA = 1000\n",
        "TEST_DATA = 1000\n",
        "\n",
        "TRAIN_DATA_FILE =  'train'\n",
        "TEST_DATA_FILE =  'test'\n",
        "\n",
        "\n",
        "\n",
        "def create_DATA(file,type):\n",
        "    if (os.path.isfile(file)):\n",
        "        data = np.loadtxt(file)\n",
        "    else:\n",
        "        x_batch = np.linspace(0, 2, type).astype(np.float32).reshape(type,1) #np.random.rand(type).astype(np.float32)\n",
        "        y_batch = (1.5 * x_batch + np.random.randn(*x_batch.shape) * 0.2 + 0.5).reshape(type,1)\n",
        "        #print(x_batch)\n",
        "        #print(y_batch)\n",
        "        data = np.hstack((x_batch,y_batch))\n",
        "    #print(data)\n",
        "    np.savetxt(file,data)\n",
        "  \n",
        "create_DATA(TRAIN_DATA_FILE,TRAIN_DATA)\n",
        "create_DATA(TEST_DATA_FILE,TEST_DATA)"
      ],
      "execution_count": 0,
      "outputs": []
    },
    {
      "metadata": {
        "id": "id4g8pC0xg3G",
        "colab_type": "text"
      },
      "cell_type": "markdown",
      "source": [
        "# **Create TFRecord **"
      ]
    },
    {
      "metadata": {
        "id": "IODU2CDUxtDb",
        "colab_type": "code",
        "colab": {}
      },
      "cell_type": "code",
      "source": [
        "# -*- coding: utf-8 -*-\n",
        "import os \n",
        "import tensorflow as tf\n",
        "\n",
        "TRAIN_DATA_FILE = 'train'\n",
        "TEST_DATA_FILE = 'test'\n",
        "\n",
        "def _float_feature(value):\n",
        "    return tf.train.Feature(float_list = tf.train.FloatList(value = [value]))\n",
        "  \n",
        "def create_TFRecord(file):\n",
        "    classes = np.loadtxt(file)\n",
        "    #print(classes) \n",
        "    writer = tf.python_io.TFRecordWriter(file +'.tfrecords')\n",
        "\n",
        "    for index, data in enumerate(classes):\n",
        "     # print(index,data[0],data[1]) \n",
        "      example = tf.train.Example(features = tf.train.Features(feature = {\"y_data\": _float_feature(data[1]),\n",
        "                                                                         \"x_data\": _float_feature(data[0]),                                                                          \n",
        "                                                                        }))\n",
        "      writer.write(example.SerializeToString()) \n",
        "    writer.close()\n",
        "  \n",
        "create_TFRecord(TRAIN_DATA_FILE)\n",
        "create_TFRecord(TEST_DATA_FILE)"
      ],
      "execution_count": 0,
      "outputs": []
    },
    {
      "metadata": {
        "id": "g0uhrL_wB853",
        "colab_type": "text"
      },
      "cell_type": "markdown",
      "source": [
        "# **Read TFRecord **"
      ]
    },
    {
      "metadata": {
        "id": "o7ZdSZDMfVDE",
        "colab_type": "code",
        "colab": {}
      },
      "cell_type": "code",
      "source": [
        "import tensorflow as tf\n",
        "\n",
        "from tensorflow.contrib.learn.python.learn.datasets import base\n",
        "\n",
        "\n",
        "def pares_tfrecorder(serialized_example):\n",
        "    features = tf.parse_single_example(serialized_example,\n",
        "                                       features={\n",
        "                                           'x_data': tf.FixedLenFeature([], tf.float32),\n",
        "                                           'y_data' : tf.FixedLenFeature([], tf.float32),\n",
        "                                       })\n",
        "\n",
        "    X_ = tf.cast(features['x_data'], tf.float32)\n",
        "    Y_ = tf.cast(features['y_data'], tf.float32) \n",
        "\n",
        "    return X_,Y_\n",
        "\n",
        "def read_and_decode_two(filename,batch):\n",
        "    dataset = tf.data.TFRecordDataset(filename)\n",
        "    #print(dataset)\n",
        "    dataset = dataset.map(pares_tfrecorder)\n",
        "    dataset = dataset.batch(batch).repeat(1)\n",
        "    \n",
        "    return dataset\n",
        "\n"
      ],
      "execution_count": 0,
      "outputs": []
    },
    {
      "metadata": {
        "id": "toYgfmOAjL-F",
        "colab_type": "text"
      },
      "cell_type": "markdown",
      "source": [
        "# Demo (y = wx+b)"
      ]
    },
    {
      "metadata": {
        "id": "ZqOUVlNwjEin",
        "colab_type": "code",
        "outputId": "b60f4b0c-b416-44a4-b5a8-8dfcaf13060a",
        "colab": {
          "base_uri": "https://localhost:8080/",
          "height": 1147
        }
      },
      "cell_type": "code",
      "source": [
        "# _*_ coding: utf-8 _*_\n",
        "\n",
        "import matplotlib.pyplot as plt\n",
        "\n",
        "import tensorflow as tf\n",
        "\n",
        "import numpy as np\n",
        "\n",
        "import os\n",
        "\n",
        "BATCH_SIZE = 400\n",
        "\n",
        "TRAIN_TF_REDOCRD_FILE = 'train.tfrecords'\n",
        "TEST_TF_REDOCRD_FILE = 'test.tfrecords'\n",
        "\n",
        "MAX_STEPS = 500\n",
        "\n",
        "LOG_DIR = './log'\n",
        "MODELS_DIR = LOG_DIR + '/models/test_model.ckpt'\n",
        "\n",
        "\n",
        "#input\n",
        "with tf.name_scope('input'):\n",
        "    with tf.name_scope('x'):\n",
        "        x = tf.placeholder(tf.float32, shape = (BATCH_SIZE,), name = \"x\")\n",
        "        #print(x)\n",
        "    with tf.name_scope('y_'):\n",
        "        y_ = tf.placeholder(tf.float32, shape = (BATCH_SIZE,), name = \"y_\")\n",
        "\n",
        "        \n",
        "# layer\n",
        "with tf.name_scope('layer'):\n",
        "    with tf.name_scope('weights'):\n",
        "        Weights = tf.Variable(np.random.normal())\n",
        "        tf.summary.histogram('Weights' ,Weights)\n",
        "    with tf.name_scope('biases'):\n",
        "        biases = tf.Variable(np.random.normal())\n",
        "        tf.summary.histogram('biases' ,biases)\n",
        "        \n",
        "with tf.name_scope('Result'):\n",
        "    #权值与x相乘并加偏差\n",
        "    #y = Weights * x + biases\n",
        "    y = tf.add(tf.multiply(Weights,x),biases,name = 'out')\n",
        "\n",
        "#Mean Squared Error)\n",
        "with tf.name_scope('Mean_Squared_Error'):\n",
        "    #方差，(y-y_)平方，求和，取均值\n",
        "    loss = tf.reduce_mean(tf.square(y-y_),name='loss')\n",
        "    tf.summary.scalar('loss', loss)\n",
        "    \n",
        "#Optimizer\n",
        "with tf.name_scope('train'):\n",
        "    #定义梯度下降法优化函数优化，步长为0.5\n",
        "    optimizer = tf.train.GradientDescentOptimizer(0.8)\n",
        "    #tf.summary.scalar('optimizer', optimizer)\n",
        "    train_step = optimizer.minimize(loss)\n",
        "\n",
        "  \n",
        "def feed_dict(train,batch_sieze):\n",
        "    #xs, ys =x_data[0], x_data[1]\n",
        "    if train:\n",
        "      data = read_and_decode_two(TRAIN_TF_REDOCRD_FILE,batch_sieze)\n",
        "    else :\n",
        "      data = read_and_decode_two(TEST_TF_REDOCRD_FILE,batch_sieze)\n",
        "\n",
        "    next_element = data.make_one_shot_iterator().get_next()\n",
        "\n",
        "    return next_element\n",
        "\n",
        "#Xs,Ys = feed_dict(True,BATCH_SIZE)\n",
        "\n",
        "merged = tf.summary.merge_all()\n",
        "\n",
        "step = 0\n",
        "\n",
        "#session\n",
        "with  tf.Session() as sess:\n",
        "  \n",
        "    init = tf.global_variables_initializer()\n",
        "    \n",
        "    #create FileWriter and loadd graph\n",
        "    train_writer = tf.summary.FileWriter(LOG_DIR+'/train', sess.graph)\n",
        "    test_writer = tf.summary.FileWriter(LOG_DIR+'/test')\n",
        "    \n",
        "    sess.run(init)\n",
        "    \n",
        "    plt.figure(figsize=(10, 10), dpi=80)\n",
        "    plt.ion()\n",
        "\n",
        "    #Save\n",
        "    saver = tf.train.Saver()\n",
        "    \n",
        "    coord = tf.train.Coordinator()\n",
        "    threads = tf.train.start_queue_runners(coord=coord)\n",
        "    plt.title(\" Diagram.\")\n",
        "    plt.xlabel(\"x\")\n",
        "    plt.ylabel(\"y\")\n",
        "    try:\n",
        "        while not coord.should_stop() and  step <= MAX_STEPS:\n",
        "\n",
        "            if False:\n",
        "              x_data ,y_data = sess.run(fetches=feed_dict(True,BATCH_SIZE))\n",
        "              summary,y_re,loss_value, _ = sess.run([merged,y,loss,train_step],feed_dict={x:x_data,y_:y_data})\n",
        "              test_writer.add_summary(summary, step)\n",
        "              print(\"At %d  step(s), loss is %g, weight is %g , bias is %g\" %(step, loss_value,sess.run(Weights),sess.run(biases)))\n",
        "            else:\n",
        "              if step % 100 == 99:\n",
        "                    x_data ,y_data = sess.run(fetches=feed_dict(True,BATCH_SIZE))\n",
        "                    run_options = tf.RunOptions(trace_level=tf.RunOptions.FULL_TRACE)\n",
        "                    run_metadata = tf.RunMetadata()\n",
        "                    summary,y_re,loss_value, _ = sess.run([merged,y,loss,train_step],feed_dict={x:x_data,y_:y_data},options=run_options,run_metadata=run_metadata)\n",
        "                    train_writer.add_run_metadata(run_metadata, 'step%03d' % step)\n",
        "                    train_writer.add_summary(summary, step)\n",
        "                    print('Adding run metadata fro ', step)\n",
        "                    print(\"After %d  step(s), loss is %g, weight is %g , bias is %g\" %(step, loss_value,sess.run(Weights),sess.run(biases)))\n",
        "                    saver.save(sess,MODELS_DIR, global_step=step)\n",
        "              else:\n",
        "                  x_data ,y_data = sess.run(fetches=feed_dict(True,BATCH_SIZE))\n",
        "                  summary,y_re,loss_value, _ = sess.run([merged,y,loss,train_step],feed_dict={x:x_data,y_:y_data})\n",
        "                  train_writer.add_summary(summary, step)\n",
        "            \n",
        "            if step % 50 == 0:\n",
        "                print(\"After %d  step(s), loss is %g, weight is %g , bias is %g\" %(step, loss_value,sess.run(Weights),sess.run(biases)))\n",
        "\n",
        "            step += 1\n",
        "            #print(\"y_re\")\n",
        "            #print(y_re)\n",
        "            if step % 100 == 0:\n",
        "                plt.scatter(x_data,y_data)\n",
        "                plt.plot(x_data,y_re,color='red')\n",
        "    except tf.errors.OutOfRangeError:\n",
        "        print('done!')\n",
        "    finally:\n",
        "        coord.request_stop()\n",
        "    coord.join(threads)\n",
        "\n",
        "    plt.ioff()\n",
        "    plt.show()\n",
        "    \n",
        "    #close FileWriter\n",
        "    train_writer.close()\n",
        "    test_writer.close()\n",
        "\n",
        "print(\"Done !!!\")\n",
        "\n"
      ],
      "execution_count": 4,
      "outputs": [
        {
          "output_type": "stream",
          "text": [
            "WARNING:tensorflow:From <ipython-input-4-25b78639867a>:93: start_queue_runners (from tensorflow.python.training.queue_runner_impl) is deprecated and will be removed in a future version.\n",
            "Instructions for updating:\n",
            "To construct input pipelines, use the `tf.data` module.\n",
            "WARNING:tensorflow:`tf.train.start_queue_runners()` was called when no queue runners were defined. You can safely remove the call to this deprecated function.\n",
            "After 0  step(s), loss is 1.0698, weight is 0.0716376 , bias is 1.89796\n",
            "After 50  step(s), loss is 0.0431684, weight is 1.45298 , bias is 0.52037\n",
            "Adding run metadata fro  99\n",
            "After 99  step(s), loss is 0.0430775, weight is 1.48981 , bias is 0.504302\n",
            "After 100  step(s), loss is 0.0430775, weight is 1.48987 , bias is 0.504275\n",
            "After 150  step(s), loss is 0.0430775, weight is 1.4907 , bias is 0.503928\n",
            "Adding run metadata fro  199\n",
            "After 199  step(s), loss is 0.0430775, weight is 1.49072 , bias is 0.50392\n",
            "After 200  step(s), loss is 0.0430775, weight is 1.49072 , bias is 0.50392\n",
            "After 250  step(s), loss is 0.0430775, weight is 1.49072 , bias is 0.50392\n",
            "Adding run metadata fro  299\n",
            "After 299  step(s), loss is 0.0430775, weight is 1.49072 , bias is 0.50392\n",
            "After 300  step(s), loss is 0.0430775, weight is 1.49072 , bias is 0.50392\n",
            "After 350  step(s), loss is 0.0430775, weight is 1.49072 , bias is 0.50392\n",
            "Adding run metadata fro  399\n",
            "After 399  step(s), loss is 0.0430775, weight is 1.49072 , bias is 0.50392\n",
            "After 400  step(s), loss is 0.0430775, weight is 1.49072 , bias is 0.50392\n",
            "After 450  step(s), loss is 0.0430775, weight is 1.49072 , bias is 0.50392\n",
            "Adding run metadata fro  499\n",
            "After 499  step(s), loss is 0.0430775, weight is 1.49072 , bias is 0.50392\n",
            "After 500  step(s), loss is 0.0430775, weight is 1.49072 , bias is 0.50392\n"
          ],
          "name": "stdout"
        },
        {
          "output_type": "display_data",
          "data": {
            "image/png": "[encoded data removed]",
            "text/plain": [
              "<matplotlib.figure.Figure at 0x7f8b251b8710>"
            ]
          },
          "metadata": {
            "tags": []
          }
        },
        {
          "output_type": "stream",
          "text": [
            "Done !!!\n"
          ],
          "name": "stdout"
        }
      ]
    },
    {
      "metadata": {
        "id": "rk31X14qUMIm",
        "colab_type": "text"
      },
      "cell_type": "markdown",
      "source": [
        "\n",
        "# **Freeze Graph**"
      ]
    },
    {
      "metadata": {
        "id": "RgszozhgI7yU",
        "colab_type": "code",
        "outputId": "88fe05ab-7319-44b3-eef3-e71fa5c02da9",
        "colab": {
          "base_uri": "https://localhost:8080/",
          "height": 87
        }
      },
      "cell_type": "code",
      "source": [
        "from tensorflow.python.framework import graph_util\n",
        "\n",
        "LOG_DIR = './log'\n",
        "MODELS_DIR = LOG_DIR + '/models/'\n",
        "\n",
        "def freeze_graph(model_folder,modelsName):\n",
        "    checkpoint = tf.train.get_checkpoint_state(model_folder)\n",
        "    input_checkpoint = checkpoint.model_checkpoint_path\n",
        "    #print(checkpoint)\n",
        "    #print(input_checkpoint)\n",
        "    absolute_model_folder = \"/\".join(input_checkpoint.split('/')[:-1])\n",
        "    output_graph = absolute_model_folder + \"/\"+modelsName+\".pb\"\n",
        "    #print(absolute_model_folder)\n",
        "    #print(output_graph)\n",
        "    \n",
        "    output_node_names = \"Result/out\" #now is bad!!!!\n",
        "    \n",
        "    clear_devices = True\n",
        "    \n",
        "    saver = tf.train.import_meta_graph(input_checkpoint + '.meta', clear_devices=clear_devices)\n",
        "    #print(saver)\n",
        "    \n",
        "    graph = tf.get_default_graph()\n",
        "    \n",
        "    input_graph_def = graph.as_graph_def()\n",
        "    \n",
        "    with tf.Session() as sess:\n",
        "        saver.restore(sess, input_checkpoint)\n",
        " \n",
        "        # We use a built-in TF helper to export variables to constant\n",
        "        output_graph_def = graph_util.convert_variables_to_constants(\n",
        "            sess, \n",
        "            input_graph_def, \n",
        "            output_node_names.split(\",\") # We split on comma for convenience\n",
        "        ) \n",
        " \n",
        "        # Finally we serialize and dump the output graph to the filesystem\n",
        "        with tf.gfile.GFile(output_graph, \"wb\") as f:\n",
        "            f.write(output_graph_def.SerializeToString())\n",
        "        print(\"%d ops in the final graph.\" % len(output_graph_def.node))\n",
        "        #print(output_graph_def.node)\n",
        "    \n",
        "with tf.Session() as sess:\n",
        "    freeze_graph(MODELS_DIR,'test')\n",
        "    #print(MODELS_DIR)"
      ],
      "execution_count": 5,
      "outputs": [
        {
          "output_type": "stream",
          "text": [
            "INFO:tensorflow:Restoring parameters from ./log/models/test_model.ckpt-499\n",
            "INFO:tensorflow:Froze 2 variables.\n",
            "INFO:tensorflow:Converted 2 variables to const ops.\n",
            "7 ops in the final graph.\n"
          ],
          "name": "stdout"
        }
      ]
    },
    {
      "metadata": {
        "id": "CYeqndibUT7I",
        "colab_type": "text"
      },
      "cell_type": "markdown",
      "source": [
        "# **Load pb Model**"
      ]
    },
    {
      "metadata": {
        "id": "MO6IZTKQUazD",
        "colab_type": "code",
        "outputId": "75e34a58-59d7-42b1-b67f-b4966c501aa4",
        "colab": {
          "base_uri": "https://localhost:8080/",
          "height": 87
        }
      },
      "cell_type": "code",
      "source": [
        "import argparse\n",
        "import os\n",
        "import sys\n",
        "\n",
        "import numpy as np \n",
        "import tensorflow as tf\n",
        "from tensorflow.python.platform import gfile\n",
        "\n",
        "LOG_DIR = './log'\n",
        "MODELS_DIR = LOG_DIR + '/models/'\n",
        "\n",
        "def load(MODELS_DIR,fileName,sess):\n",
        "  graph = tf.get_default_graph()\n",
        "  graphdef = graph.as_graph_def()\n",
        "  graphdef.ParseFromString(gfile.FastGFile(MODELS_DIR+fileName, \"rb\").read())\n",
        "  #print(MODELS_DIR+fileName)\n",
        "  _ = tf.import_graph_def(graphdef)\n",
        "  summary_write = tf.summary.FileWriter(LOG_DIR + '/graph', sess.graph)\n",
        "  summary_write.close()\n",
        "  \n",
        "  return graph\n",
        "  \n",
        "X =  np.linspace(0, 1, 400).astype(np.int32).reshape(400)\n",
        "\n",
        "with tf.Session() as sess:\n",
        "  \n",
        "    graph = load(MODELS_DIR,'test.pb',sess)\n",
        "    #for op in graph.get_operations():\n",
        "        #rint(op.name,op.values())\n",
        "        \n",
        "    x = graph.get_tensor_by_name('import/input/x/x:0')\n",
        "    y = graph.get_tensor_by_name('import/Result/out:0')\n",
        "\n",
        "    y_out = sess.run(y, feed_dict={x: X })\n",
        "\n",
        "    #print(np.unique(y_out))\n",
        "    print(\"weight is %g , bias is %g\" %(np.unique(y_out)[0],(np.unique(y_out)[1])-np.unique(y_out)[0]))\n",
        "\n",
        "\n",
        "\n",
        "\n"
      ],
      "execution_count": 6,
      "outputs": [
        {
          "output_type": "stream",
          "text": [
            "WARNING:tensorflow:From <ipython-input-6-3a7402a42886>:15: FastGFile.__init__ (from tensorflow.python.platform.gfile) is deprecated and will be removed in a future version.\n",
            "Instructions for updating:\n",
            "Use tf.gfile.GFile.\n",
            "weight is 0.50392 , bias is 1.49072\n"
          ],
          "name": "stdout"
        }
      ]
    },
    {
      "metadata": {
        "id": "fIad57Jh9cEe",
        "colab_type": "text"
      },
      "cell_type": "markdown",
      "source": [
        "# **TensorBoard**"
      ]
    },
    {
      "metadata": {
        "id": "A_n-owW89cfN",
        "colab_type": "code",
        "outputId": "f54d8137-2d6c-43a0-976c-4d279bf5329a",
        "colab": {
          "base_uri": "https://localhost:8080/",
          "height": 265
        }
      },
      "cell_type": "code",
      "source": [
        "#https://www.dlology.com/blog/quick-guide-to-run-tensorboard-in-google-colab/\n",
        "\n",
        "!wget https://bin.equinox.io/c/4VmDzA7iaHb/ngrok-stable-linux-amd64.zip\n",
        "!unzip ngrok-stable-linux-amd64.zip\n",
        "\n",
        "LOG_DIR = './log'\n",
        "get_ipython().system_raw('tensorboard --logdir {} --host 0.0.0.0 --port 6006 &'.format(LOG_DIR))\n",
        "\n",
        "get_ipython().system_raw('./ngrok http 6006 &')\n",
        "\n",
        "\n",
        "! curl -s http://localhost:4040/api/tunnels | python3 -c \"import sys, json; print(json.load(sys.stdin)['tunnels'][0]['public_url'])\"\n",
        "\n"
      ],
      "execution_count": 7,
      "outputs": [
        {
          "output_type": "stream",
          "text": [
            "--2018-10-31 00:41:57--  https://bin.equinox.io/c/4VmDzA7iaHb/ngrok-stable-linux-amd64.zip\n",
            "Resolving bin.equinox.io (bin.equinox.io)... 52.21.103.149, 52.203.66.95, 52.207.5.158, ...\n",
            "Connecting to bin.equinox.io (bin.equinox.io)|52.21.103.149|:443... connected.\n",
            "HTTP request sent, awaiting response... 200 OK\n",
            "Length: 5363700 (5.1M) [application/octet-stream]\n",
            "Saving to: ‘ngrok-stable-linux-amd64.zip’\n",
            "\n",
            "ngrok-stable-linux- 100%[===================>]   5.11M  9.77MB/s    in 0.5s    \n",
            "\n",
            "2018-10-31 00:42:03 (9.77 MB/s) - ‘ngrok-stable-linux-amd64.zip’ saved [5363700/5363700]\n",
            "\n",
            "Archive:  ngrok-stable-linux-amd64.zip\n",
            "  inflating: ngrok                   \n",
            "http://403ae5d0.ngrok.io\n"
          ],
          "name": "stdout"
        }
      ]
    }
  ]
}