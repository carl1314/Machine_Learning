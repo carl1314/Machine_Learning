{
  "nbformat": 4,
  "nbformat_minor": 0,
  "metadata": {
    "colab": {
      "name": "wx+b-no-summary.ipynb",
      "version": "0.3.2",
      "provenance": [],
      "collapsed_sections": [],
      "include_colab_link": true
    },
    "kernelspec": {
      "name": "python3",
      "display_name": "Python 3"
    }
  },
  "cells": [
    {
      "cell_type": "markdown",
      "metadata": {
        "id": "view-in-github",
        "colab_type": "text"
      },
      "source": [
        "<a href=\"https://colab.research.google.com/github/LjBLincoln/Machine_Learning/blob/master/wx+b_no_summary.ipynb\" target=\"_parent\"><img src=\"https://colab.research.google.com/assets/colab-badge.svg\" alt=\"Open In Colab\"/></a>"
      ]
    },
    {
      "metadata": {
        "id": "hJUM4jTFNEVm",
        "colab_type": "code",
        "colab": {}
      },
      "cell_type": "code",
      "source": [
        "import numpy as np\n",
        "import tensorflow as tf\n",
        "import matplotlib.pyplot as plt\n",
        "\n",
        "def generate_dataset():\n",
        "    x_batch = np.linspace(0, 2, 100)\n",
        "    y_batch = 1.5 * x_batch + np.random.randn(*x_batch.shape) * 0.2 + 0.5\n",
        "    return x_batch, y_batch"
      ],
      "execution_count": 0,
      "outputs": []
    },
    {
      "metadata": {
        "id": "4OlCeqjKNnwI",
        "colab_type": "code",
        "colab": {}
      },
      "cell_type": "code",
      "source": [
        "def linear_regression():\n",
        "    x = tf.placeholder(tf.float32, shape=(None, ), name='x')\n",
        "    y = tf.placeholder(tf.float32, shape=(None, ), name='y')\n",
        "     \n",
        "    with tf.variable_scope('lreg') as scope:\n",
        "       w = tf.Variable(np.random.normal(), name='W')\n",
        "       \n",
        "       b = tf.Variable(np.random.normal(), name='b')\n",
        "\t\t\n",
        "       y_pred = tf.add(tf.multiply(w, x), b)\n",
        "      \n",
        "       loss = tf.reduce_mean(tf.square(y_pred - y))\n",
        "        \n",
        "    return x, y, y_pred, loss"
      ],
      "execution_count": 0,
      "outputs": []
    },
    {
      "metadata": {
        "id": "OXcI3EsuOuts",
        "colab_type": "code",
        "colab": {
          "base_uri": "https://localhost:8080/",
          "height": 2051
        },
        "outputId": "34506f82-e439-4c9e-bd8f-8ab7091c50c8"
      },
      "cell_type": "code",
      "source": [
        "def run():\n",
        "    x_batch, y_batch = generate_dataset()\n",
        "    x, y, y_pred, loss = linear_regression()\n",
        "    optimizer = tf.train.GradientDescentOptimizer(0.1)\n",
        "    train_op = optimizer.minimize(loss)\n",
        "    with tf.Session() as session:\n",
        "        session.run(tf.global_variables_initializer())\n",
        "        feed_dict = {x: x_batch, y: y_batch}\n",
        "\n",
        "        for i in range(100):\n",
        "            session.run(train_op, feed_dict)\n",
        "            print(i, \"loss:\", loss.eval(feed_dict))\n",
        "        y_pred_batch = session.run(y_pred, {x : x_batch})\n",
        "\n",
        "    plt.scatter(x_batch, y_batch)\n",
        "    plt.plot(x_batch, y_pred_batch, color='red')\n",
        "    plt.xlim(0, 2)\n",
        "    plt.ylim(0, 2)\n",
        "    plt.savefig('plot.png')\n",
        "    \n",
        "if __name__ == \"__main__\":\n",
        "    run()"
      ],
      "execution_count": 5,
      "outputs": [
        {
          "output_type": "stream",
          "text": [
            "0 loss: 8.069278\n",
            "1 loss: 2.5862205\n",
            "2 loss: 0.84725356\n",
            "3 loss: 0.29557994\n",
            "4 loss: 0.12042008\n",
            "5 loss: 0.06466896\n",
            "6 loss: 0.046795875\n",
            "7 loss: 0.040946055\n",
            "8 loss: 0.03892009\n",
            "9 loss: 0.038117174\n",
            "10 loss: 0.037711922\n",
            "11 loss: 0.037442014\n",
            "12 loss: 0.037223686\n",
            "13 loss: 0.037029862\n",
            "14 loss: 0.036851436\n",
            "15 loss: 0.036685072\n",
            "16 loss: 0.036529254\n",
            "17 loss: 0.036383107\n",
            "18 loss: 0.036245953\n",
            "19 loss: 0.03611721\n",
            "20 loss: 0.03599637\n",
            "21 loss: 0.03588294\n",
            "22 loss: 0.03577646\n",
            "23 loss: 0.03567652\n",
            "24 loss: 0.035582695\n",
            "25 loss: 0.03549462\n",
            "26 loss: 0.03541195\n",
            "27 loss: 0.035334345\n",
            "28 loss: 0.0352615\n",
            "29 loss: 0.035193115\n",
            "30 loss: 0.03512893\n",
            "31 loss: 0.03506868\n",
            "32 loss: 0.035012115\n",
            "33 loss: 0.034959022\n",
            "34 loss: 0.034909185\n",
            "35 loss: 0.0348624\n",
            "36 loss: 0.034818485\n",
            "37 loss: 0.03477727\n",
            "38 loss: 0.03473857\n",
            "39 loss: 0.034702245\n",
            "40 loss: 0.03466815\n",
            "41 loss: 0.03463614\n",
            "42 loss: 0.034606107\n",
            "43 loss: 0.03457789\n",
            "44 loss: 0.034551423\n",
            "45 loss: 0.03452657\n",
            "46 loss: 0.034503244\n",
            "47 loss: 0.034481347\n",
            "48 loss: 0.034460794\n",
            "49 loss: 0.034441493\n",
            "50 loss: 0.03442338\n",
            "51 loss: 0.034406383\n",
            "52 loss: 0.034390423\n",
            "53 loss: 0.034375444\n",
            "54 loss: 0.034361385\n",
            "55 loss: 0.034348175\n",
            "56 loss: 0.034335785\n",
            "57 loss: 0.034324154\n",
            "58 loss: 0.03431324\n",
            "59 loss: 0.034302987\n",
            "60 loss: 0.03429337\n",
            "61 loss: 0.03428433\n",
            "62 loss: 0.03427586\n",
            "63 loss: 0.0342679\n",
            "64 loss: 0.03426043\n",
            "65 loss: 0.03425342\n",
            "66 loss: 0.03424684\n",
            "67 loss: 0.034240656\n",
            "68 loss: 0.03423485\n",
            "69 loss: 0.034229416\n",
            "70 loss: 0.0342243\n",
            "71 loss: 0.034219503\n",
            "72 loss: 0.034214996\n",
            "73 loss: 0.034210775\n",
            "74 loss: 0.034206804\n",
            "75 loss: 0.034203082\n",
            "76 loss: 0.034199584\n",
            "77 loss: 0.034196302\n",
            "78 loss: 0.03419322\n",
            "79 loss: 0.034190327\n",
            "80 loss: 0.03418761\n",
            "81 loss: 0.034185063\n",
            "82 loss: 0.03418267\n",
            "83 loss: 0.034180433\n",
            "84 loss: 0.03417832\n",
            "85 loss: 0.034176346\n",
            "86 loss: 0.03417448\n",
            "87 loss: 0.034172736\n",
            "88 loss: 0.0341711\n",
            "89 loss: 0.03416957\n",
            "90 loss: 0.034168128\n",
            "91 loss: 0.034166776\n",
            "92 loss: 0.034165498\n",
            "93 loss: 0.034164306\n",
            "94 loss: 0.03416319\n",
            "95 loss: 0.034162134\n",
            "96 loss: 0.03416115\n",
            "97 loss: 0.03416022\n",
            "98 loss: 0.034159355\n",
            "99 loss: 0.034158546\n"
          ],
          "name": "stdout"
        },
        {
          "output_type": "display_data",
          "data": {
            "image/png": "[encoded data removed]",
            "text/plain": [
              "<matplotlib.figure.Figure at 0x7ff26e5dad68>"
            ]
          },
          "metadata": {
            "tags": []
          }
        }
      ]
    }
  ]
}